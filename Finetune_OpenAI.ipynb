{
  "nbformat": 4,
  "nbformat_minor": 0,
  "metadata": {
    "colab": {
      "provenance": [],
      "include_colab_link": true
    },
    "kernelspec": {
      "name": "python3",
      "display_name": "Python 3"
    },
    "language_info": {
      "name": "python"
    }
  },
  "cells": [
    {
      "cell_type": "markdown",
      "metadata": {
        "id": "view-in-github",
        "colab_type": "text"
      },
      "source": [
        "<a href=\"https://colab.research.google.com/github/nathalierocelle/guided-projects-generative-ai/blob/main/Finetune_OpenAI.ipynb\" target=\"_parent\"><img src=\"https://colab.research.google.com/assets/colab-badge.svg\" alt=\"Open In Colab\"/></a>"
      ]
    },
    {
      "cell_type": "markdown",
      "source": [
        "## Step 1: Install the required library\n",
        "\n",
        "Make sure you have the `openai` library installed. Use the command below if not already installed:"
      ],
      "metadata": {
        "id": "Rpi2JDlo2mLC"
      }
    },
    {
      "cell_type": "code",
      "source": [
        "!pip install openai==1.55.3 httpx==0.27.2"
      ],
      "metadata": {
        "id": "m4ZtKeih2ncx",
        "colab": {
          "base_uri": "https://localhost:8080/"
        },
        "outputId": "1a2452d5-9eb8-49a3-aa98-bc34f9150d48"
      },
      "execution_count": 1,
      "outputs": [
        {
          "output_type": "stream",
          "name": "stdout",
          "text": [
            "Requirement already satisfied: openai==1.55.3 in /usr/local/lib/python3.10/dist-packages (1.55.3)\n",
            "Requirement already satisfied: httpx==0.27.2 in /usr/local/lib/python3.10/dist-packages (0.27.2)\n",
            "Requirement already satisfied: anyio<5,>=3.5.0 in /usr/local/lib/python3.10/dist-packages (from openai==1.55.3) (3.7.1)\n",
            "Requirement already satisfied: distro<2,>=1.7.0 in /usr/local/lib/python3.10/dist-packages (from openai==1.55.3) (1.9.0)\n",
            "Requirement already satisfied: jiter<1,>=0.4.0 in /usr/local/lib/python3.10/dist-packages (from openai==1.55.3) (0.8.2)\n",
            "Requirement already satisfied: pydantic<3,>=1.9.0 in /usr/local/lib/python3.10/dist-packages (from openai==1.55.3) (2.10.3)\n",
            "Requirement already satisfied: sniffio in /usr/local/lib/python3.10/dist-packages (from openai==1.55.3) (1.3.1)\n",
            "Requirement already satisfied: tqdm>4 in /usr/local/lib/python3.10/dist-packages (from openai==1.55.3) (4.67.1)\n",
            "Requirement already satisfied: typing-extensions<5,>=4.11 in /usr/local/lib/python3.10/dist-packages (from openai==1.55.3) (4.12.2)\n",
            "Requirement already satisfied: certifi in /usr/local/lib/python3.10/dist-packages (from httpx==0.27.2) (2024.12.14)\n",
            "Requirement already satisfied: httpcore==1.* in /usr/local/lib/python3.10/dist-packages (from httpx==0.27.2) (1.0.7)\n",
            "Requirement already satisfied: idna in /usr/local/lib/python3.10/dist-packages (from httpx==0.27.2) (3.10)\n",
            "Requirement already satisfied: h11<0.15,>=0.13 in /usr/local/lib/python3.10/dist-packages (from httpcore==1.*->httpx==0.27.2) (0.14.0)\n",
            "Requirement already satisfied: exceptiongroup in /usr/local/lib/python3.10/dist-packages (from anyio<5,>=3.5.0->openai==1.55.3) (1.2.2)\n",
            "Requirement already satisfied: annotated-types>=0.6.0 in /usr/local/lib/python3.10/dist-packages (from pydantic<3,>=1.9.0->openai==1.55.3) (0.7.0)\n",
            "Requirement already satisfied: pydantic-core==2.27.1 in /usr/local/lib/python3.10/dist-packages (from pydantic<3,>=1.9.0->openai==1.55.3) (2.27.1)\n"
          ]
        }
      ]
    },
    {
      "cell_type": "code",
      "source": [
        "# Import necessary libraries\n",
        "import os\n",
        "import pandas as pd\n",
        "import json\n",
        "from openai import OpenAI"
      ],
      "metadata": {
        "id": "rKpH1ovI2pDR"
      },
      "execution_count": 2,
      "outputs": []
    },
    {
      "cell_type": "markdown",
      "source": [
        "Access data from this [link](https://themlco-my.sharepoint.com/:f:/p/chiragchauhan/Eg7biBxP1hhEta6JLchrfWgBvLawQsfxSDJO6K1BQl_J9g?e=FhiWT3)"
      ],
      "metadata": {
        "id": "KSUn_jBPPcGM"
      }
    },
    {
      "cell_type": "markdown",
      "source": [
        "## Step 2: Set up your API key\n",
        "Replace 'YOUR_API_KEY' with your actual OpenAI API key."
      ],
      "metadata": {
        "id": "p4AekMfl2rOg"
      }
    },
    {
      "cell_type": "code",
      "source": [
        "from google.colab import userdata # check the key shaped the symbol on the left pane of the notebook\n",
        "OpenAI_API = userdata.get('OPENAI_API_KEY')"
      ],
      "metadata": {
        "id": "G-zp8H3ZKVxj"
      },
      "execution_count": 3,
      "outputs": []
    },
    {
      "cell_type": "code",
      "source": [
        "os.environ[\"OPENAI_API_KEY\"] = OpenAI_API"
      ],
      "metadata": {
        "id": "rW0m0tywjZmO"
      },
      "execution_count": 8,
      "outputs": []
    },
    {
      "cell_type": "markdown",
      "source": [
        "## Step 3: Prepare the dataset\n",
        "\n",
        "Hint: Use a JSON or CSV file and convert it to JSONL\n",
        "\n",
        "If loading a CSV dataset and convert it to JSONL format.\n",
        "Complete the conversion code below:\n",
        "\n",
        "Here for example directly using the training.jsonl file used during finetuning via playground"
      ],
      "metadata": {
        "id": "ZU9Lx5yu2uLY"
      }
    },
    {
      "cell_type": "code",
      "source": [
        "# Retrieve data from github\n",
        "\n",
        "raw_url = \"https://raw.githubusercontent.com/nathalierocelle/guided-projects-generative-ai/refs/heads/main/GenAI_Program_FAQ_dataset.csv\"\n",
        "df = pd.read_csv(raw_url)\n",
        "df.head()"
      ],
      "metadata": {
        "id": "kOiP-LpbgMPf",
        "outputId": "0b039e89-418f-4c3d-d2ae-1869b2851e3c",
        "colab": {
          "base_uri": "https://localhost:8080/",
          "height": 206
        }
      },
      "execution_count": 22,
      "outputs": [
        {
          "output_type": "execute_result",
          "data": {
            "text/plain": [
              "                                              prompt  \\\n",
              "0  How the sessions will be organized. Will the r...   \n",
              "1  Is there any pre-requisite required before or ...   \n",
              "2          What will be the duration of the program?   \n",
              "3  What materials will be provided during the cou...   \n",
              "4          What will be the timings of the sessions?   \n",
              "\n",
              "                                          completion  \n",
              "0  This program contains both pre-recorded and li...  \n",
              "1  Intermediate level python programming is requi...  \n",
              "2                    This is a 6 weeks long program.  \n",
              "3  Videos, documents, coding assignments will be ...  \n",
              "4  Live sessions will happen 6 to 7:30 PM IST on ...  "
            ],
            "text/html": [
              "\n",
              "  <div id=\"df-7c9a60b9-d69e-4286-8d9d-f7893a6d1be9\" class=\"colab-df-container\">\n",
              "    <div>\n",
              "<style scoped>\n",
              "    .dataframe tbody tr th:only-of-type {\n",
              "        vertical-align: middle;\n",
              "    }\n",
              "\n",
              "    .dataframe tbody tr th {\n",
              "        vertical-align: top;\n",
              "    }\n",
              "\n",
              "    .dataframe thead th {\n",
              "        text-align: right;\n",
              "    }\n",
              "</style>\n",
              "<table border=\"1\" class=\"dataframe\">\n",
              "  <thead>\n",
              "    <tr style=\"text-align: right;\">\n",
              "      <th></th>\n",
              "      <th>prompt</th>\n",
              "      <th>completion</th>\n",
              "    </tr>\n",
              "  </thead>\n",
              "  <tbody>\n",
              "    <tr>\n",
              "      <th>0</th>\n",
              "      <td>How the sessions will be organized. Will the r...</td>\n",
              "      <td>This program contains both pre-recorded and li...</td>\n",
              "    </tr>\n",
              "    <tr>\n",
              "      <th>1</th>\n",
              "      <td>Is there any pre-requisite required before or ...</td>\n",
              "      <td>Intermediate level python programming is requi...</td>\n",
              "    </tr>\n",
              "    <tr>\n",
              "      <th>2</th>\n",
              "      <td>What will be the duration of the program?</td>\n",
              "      <td>This is a 6 weeks long program.</td>\n",
              "    </tr>\n",
              "    <tr>\n",
              "      <th>3</th>\n",
              "      <td>What materials will be provided during the cou...</td>\n",
              "      <td>Videos, documents, coding assignments will be ...</td>\n",
              "    </tr>\n",
              "    <tr>\n",
              "      <th>4</th>\n",
              "      <td>What will be the timings of the sessions?</td>\n",
              "      <td>Live sessions will happen 6 to 7:30 PM IST on ...</td>\n",
              "    </tr>\n",
              "  </tbody>\n",
              "</table>\n",
              "</div>\n",
              "    <div class=\"colab-df-buttons\">\n",
              "\n",
              "  <div class=\"colab-df-container\">\n",
              "    <button class=\"colab-df-convert\" onclick=\"convertToInteractive('df-7c9a60b9-d69e-4286-8d9d-f7893a6d1be9')\"\n",
              "            title=\"Convert this dataframe to an interactive table.\"\n",
              "            style=\"display:none;\">\n",
              "\n",
              "  <svg xmlns=\"http://www.w3.org/2000/svg\" height=\"24px\" viewBox=\"0 -960 960 960\">\n",
              "    <path d=\"M120-120v-720h720v720H120Zm60-500h600v-160H180v160Zm220 220h160v-160H400v160Zm0 220h160v-160H400v160ZM180-400h160v-160H180v160Zm440 0h160v-160H620v160ZM180-180h160v-160H180v160Zm440 0h160v-160H620v160Z\"/>\n",
              "  </svg>\n",
              "    </button>\n",
              "\n",
              "  <style>\n",
              "    .colab-df-container {\n",
              "      display:flex;\n",
              "      gap: 12px;\n",
              "    }\n",
              "\n",
              "    .colab-df-convert {\n",
              "      background-color: #E8F0FE;\n",
              "      border: none;\n",
              "      border-radius: 50%;\n",
              "      cursor: pointer;\n",
              "      display: none;\n",
              "      fill: #1967D2;\n",
              "      height: 32px;\n",
              "      padding: 0 0 0 0;\n",
              "      width: 32px;\n",
              "    }\n",
              "\n",
              "    .colab-df-convert:hover {\n",
              "      background-color: #E2EBFA;\n",
              "      box-shadow: 0px 1px 2px rgba(60, 64, 67, 0.3), 0px 1px 3px 1px rgba(60, 64, 67, 0.15);\n",
              "      fill: #174EA6;\n",
              "    }\n",
              "\n",
              "    .colab-df-buttons div {\n",
              "      margin-bottom: 4px;\n",
              "    }\n",
              "\n",
              "    [theme=dark] .colab-df-convert {\n",
              "      background-color: #3B4455;\n",
              "      fill: #D2E3FC;\n",
              "    }\n",
              "\n",
              "    [theme=dark] .colab-df-convert:hover {\n",
              "      background-color: #434B5C;\n",
              "      box-shadow: 0px 1px 3px 1px rgba(0, 0, 0, 0.15);\n",
              "      filter: drop-shadow(0px 1px 2px rgba(0, 0, 0, 0.3));\n",
              "      fill: #FFFFFF;\n",
              "    }\n",
              "  </style>\n",
              "\n",
              "    <script>\n",
              "      const buttonEl =\n",
              "        document.querySelector('#df-7c9a60b9-d69e-4286-8d9d-f7893a6d1be9 button.colab-df-convert');\n",
              "      buttonEl.style.display =\n",
              "        google.colab.kernel.accessAllowed ? 'block' : 'none';\n",
              "\n",
              "      async function convertToInteractive(key) {\n",
              "        const element = document.querySelector('#df-7c9a60b9-d69e-4286-8d9d-f7893a6d1be9');\n",
              "        const dataTable =\n",
              "          await google.colab.kernel.invokeFunction('convertToInteractive',\n",
              "                                                    [key], {});\n",
              "        if (!dataTable) return;\n",
              "\n",
              "        const docLinkHtml = 'Like what you see? Visit the ' +\n",
              "          '<a target=\"_blank\" href=https://colab.research.google.com/notebooks/data_table.ipynb>data table notebook</a>'\n",
              "          + ' to learn more about interactive tables.';\n",
              "        element.innerHTML = '';\n",
              "        dataTable['output_type'] = 'display_data';\n",
              "        await google.colab.output.renderOutput(dataTable, element);\n",
              "        const docLink = document.createElement('div');\n",
              "        docLink.innerHTML = docLinkHtml;\n",
              "        element.appendChild(docLink);\n",
              "      }\n",
              "    </script>\n",
              "  </div>\n",
              "\n",
              "\n",
              "<div id=\"df-156dbfaa-2bd0-42fe-ae76-669132e3bbb6\">\n",
              "  <button class=\"colab-df-quickchart\" onclick=\"quickchart('df-156dbfaa-2bd0-42fe-ae76-669132e3bbb6')\"\n",
              "            title=\"Suggest charts\"\n",
              "            style=\"display:none;\">\n",
              "\n",
              "<svg xmlns=\"http://www.w3.org/2000/svg\" height=\"24px\"viewBox=\"0 0 24 24\"\n",
              "     width=\"24px\">\n",
              "    <g>\n",
              "        <path d=\"M19 3H5c-1.1 0-2 .9-2 2v14c0 1.1.9 2 2 2h14c1.1 0 2-.9 2-2V5c0-1.1-.9-2-2-2zM9 17H7v-7h2v7zm4 0h-2V7h2v10zm4 0h-2v-4h2v4z\"/>\n",
              "    </g>\n",
              "</svg>\n",
              "  </button>\n",
              "\n",
              "<style>\n",
              "  .colab-df-quickchart {\n",
              "      --bg-color: #E8F0FE;\n",
              "      --fill-color: #1967D2;\n",
              "      --hover-bg-color: #E2EBFA;\n",
              "      --hover-fill-color: #174EA6;\n",
              "      --disabled-fill-color: #AAA;\n",
              "      --disabled-bg-color: #DDD;\n",
              "  }\n",
              "\n",
              "  [theme=dark] .colab-df-quickchart {\n",
              "      --bg-color: #3B4455;\n",
              "      --fill-color: #D2E3FC;\n",
              "      --hover-bg-color: #434B5C;\n",
              "      --hover-fill-color: #FFFFFF;\n",
              "      --disabled-bg-color: #3B4455;\n",
              "      --disabled-fill-color: #666;\n",
              "  }\n",
              "\n",
              "  .colab-df-quickchart {\n",
              "    background-color: var(--bg-color);\n",
              "    border: none;\n",
              "    border-radius: 50%;\n",
              "    cursor: pointer;\n",
              "    display: none;\n",
              "    fill: var(--fill-color);\n",
              "    height: 32px;\n",
              "    padding: 0;\n",
              "    width: 32px;\n",
              "  }\n",
              "\n",
              "  .colab-df-quickchart:hover {\n",
              "    background-color: var(--hover-bg-color);\n",
              "    box-shadow: 0 1px 2px rgba(60, 64, 67, 0.3), 0 1px 3px 1px rgba(60, 64, 67, 0.15);\n",
              "    fill: var(--button-hover-fill-color);\n",
              "  }\n",
              "\n",
              "  .colab-df-quickchart-complete:disabled,\n",
              "  .colab-df-quickchart-complete:disabled:hover {\n",
              "    background-color: var(--disabled-bg-color);\n",
              "    fill: var(--disabled-fill-color);\n",
              "    box-shadow: none;\n",
              "  }\n",
              "\n",
              "  .colab-df-spinner {\n",
              "    border: 2px solid var(--fill-color);\n",
              "    border-color: transparent;\n",
              "    border-bottom-color: var(--fill-color);\n",
              "    animation:\n",
              "      spin 1s steps(1) infinite;\n",
              "  }\n",
              "\n",
              "  @keyframes spin {\n",
              "    0% {\n",
              "      border-color: transparent;\n",
              "      border-bottom-color: var(--fill-color);\n",
              "      border-left-color: var(--fill-color);\n",
              "    }\n",
              "    20% {\n",
              "      border-color: transparent;\n",
              "      border-left-color: var(--fill-color);\n",
              "      border-top-color: var(--fill-color);\n",
              "    }\n",
              "    30% {\n",
              "      border-color: transparent;\n",
              "      border-left-color: var(--fill-color);\n",
              "      border-top-color: var(--fill-color);\n",
              "      border-right-color: var(--fill-color);\n",
              "    }\n",
              "    40% {\n",
              "      border-color: transparent;\n",
              "      border-right-color: var(--fill-color);\n",
              "      border-top-color: var(--fill-color);\n",
              "    }\n",
              "    60% {\n",
              "      border-color: transparent;\n",
              "      border-right-color: var(--fill-color);\n",
              "    }\n",
              "    80% {\n",
              "      border-color: transparent;\n",
              "      border-right-color: var(--fill-color);\n",
              "      border-bottom-color: var(--fill-color);\n",
              "    }\n",
              "    90% {\n",
              "      border-color: transparent;\n",
              "      border-bottom-color: var(--fill-color);\n",
              "    }\n",
              "  }\n",
              "</style>\n",
              "\n",
              "  <script>\n",
              "    async function quickchart(key) {\n",
              "      const quickchartButtonEl =\n",
              "        document.querySelector('#' + key + ' button');\n",
              "      quickchartButtonEl.disabled = true;  // To prevent multiple clicks.\n",
              "      quickchartButtonEl.classList.add('colab-df-spinner');\n",
              "      try {\n",
              "        const charts = await google.colab.kernel.invokeFunction(\n",
              "            'suggestCharts', [key], {});\n",
              "      } catch (error) {\n",
              "        console.error('Error during call to suggestCharts:', error);\n",
              "      }\n",
              "      quickchartButtonEl.classList.remove('colab-df-spinner');\n",
              "      quickchartButtonEl.classList.add('colab-df-quickchart-complete');\n",
              "    }\n",
              "    (() => {\n",
              "      let quickchartButtonEl =\n",
              "        document.querySelector('#df-156dbfaa-2bd0-42fe-ae76-669132e3bbb6 button');\n",
              "      quickchartButtonEl.style.display =\n",
              "        google.colab.kernel.accessAllowed ? 'block' : 'none';\n",
              "    })();\n",
              "  </script>\n",
              "</div>\n",
              "\n",
              "    </div>\n",
              "  </div>\n"
            ],
            "application/vnd.google.colaboratory.intrinsic+json": {
              "type": "dataframe",
              "variable_name": "df",
              "summary": "{\n  \"name\": \"df\",\n  \"rows\": 28,\n  \"fields\": [\n    {\n      \"column\": \"prompt\",\n      \"properties\": {\n        \"dtype\": \"string\",\n        \"num_unique_values\": 28,\n        \"samples\": [\n          \"When does the latest cohort/program starts?\",\n          \"How is the course structured in terms of difficulty?\",\n          \"What are the main topics covered during the program?\"\n        ],\n        \"semantic_type\": \"\",\n        \"description\": \"\"\n      }\n    },\n    {\n      \"column\": \"completion\",\n      \"properties\": {\n        \"dtype\": \"string\",\n        \"num_unique_values\": 28,\n        \"samples\": [\n          \"The latest cohort starts on 29th November 2024\",\n          \"The program is designed to gradually increase in difficulty, starting with foundational concepts and advancing to complex applications and projects.\",\n          \"Topics like Generative AI, LLMs, Finetuning, RAG, Agents, LLMOps etc are covered during the program. To learn more please visit https://www.tmlcacademy.in/genai\"\n        ],\n        \"semantic_type\": \"\",\n        \"description\": \"\"\n      }\n    }\n  ]\n}"
            }
          },
          "metadata": {},
          "execution_count": 22
        }
      ]
    },
    {
      "cell_type": "code",
      "source": [
        "# Convert the dataset to JSONL format\n",
        "output_file = 'data.jsonl'\n",
        "with open(output_file, 'w') as f:\n",
        "    for _, row in df.iterrows():\n",
        "        # Create JSON lines for chat model fine-tuning\n",
        "        json_line = json.dumps({\n",
        "            \"messages\": [\n",
        "                {\"role\": \"system\", \"content\": \"You are a helpful assistant which acts as FAQ Support Assistant for the TMLC Guided Projects in Generative AI Program and answer to user queries.\"},\n",
        "                {\"role\": \"user\", \"content\": row['prompt']},\n",
        "                {\"role\": \"assistant\", \"content\": row['completion']}\n",
        "            ]\n",
        "        })\n",
        "        f.write(json_line + '\\n')\n",
        "\n",
        "print(f\"Dataset converted and saved to {output_file}\")\n"
      ],
      "metadata": {
        "id": "-B35fhFZ3ATh",
        "outputId": "262b5404-54a5-4005-fe2c-a81fe8e04216",
        "colab": {
          "base_uri": "https://localhost:8080/"
        }
      },
      "execution_count": 23,
      "outputs": [
        {
          "output_type": "stream",
          "name": "stdout",
          "text": [
            "Dataset converted and saved to data.jsonl\n"
          ]
        }
      ]
    },
    {
      "cell_type": "markdown",
      "source": [
        "## Step 4: Upload the file for fine-tuning\n",
        "\n",
        "Use the OpenAI API to upload the dataset. Replace '<JSONL_FILE>' with your dataset file name."
      ],
      "metadata": {
        "id": "e-PxneTJ2vtQ"
      }
    },
    {
      "cell_type": "code",
      "source": [
        "client = OpenAI()"
      ],
      "metadata": {
        "id": "LT_MDQSx29pI"
      },
      "execution_count": 24,
      "outputs": []
    },
    {
      "cell_type": "code",
      "source": [
        "uploaded_file = client.files.create(\n",
        "    file=open(output_file, \"rb\"),\n",
        "    purpose=\"fine-tune\"\n",
        ")\n",
        "print(f\"File uploaded successfully. File ID: {uploaded_file.id}\")"
      ],
      "metadata": {
        "id": "1nB1bEtf3D2Y",
        "colab": {
          "base_uri": "https://localhost:8080/"
        },
        "outputId": "25fc1f08-ba6c-4a80-f6d1-61cdc3a91701"
      },
      "execution_count": 25,
      "outputs": [
        {
          "output_type": "stream",
          "name": "stdout",
          "text": [
            "File uploaded successfully. File ID: file-3qnwMKk1rw9PEhnAhTsLc4\n"
          ]
        }
      ]
    },
    {
      "cell_type": "markdown",
      "source": [
        "## Step 5: Fine-tune the model\n",
        "\n",
        "Trigger the fine-tuning job process using the uploaded file ID. Replace 'FILE_ID' and 'MODEL_NAME' accordingly."
      ],
      "metadata": {
        "id": "j-ASD4WO2xAR"
      }
    },
    {
      "cell_type": "code",
      "source": [
        "fine_tune_job = client.fine_tuning.jobs.create(\n",
        "    training_file=uploaded_file.id,\n",
        "    suffix=\"custom-fine-tuned-model\",\n",
        "    model=\"gpt-4o-mini-2024-07-18\"  # Adjust the model as required\n",
        ")\n",
        "print(f\"Fine-tuning job started. Job ID: {fine_tune_job.id}\")"
      ],
      "metadata": {
        "id": "HROkLOlA3HH4",
        "colab": {
          "base_uri": "https://localhost:8080/"
        },
        "outputId": "c4caa0d1-c43c-4719-87d2-a1b06786207a"
      },
      "execution_count": 26,
      "outputs": [
        {
          "output_type": "stream",
          "name": "stdout",
          "text": [
            "Fine-tuning job started. Job ID: ftjob-UtNug0vjeyDzIvOsrdxaHjJM\n"
          ]
        }
      ]
    },
    {
      "cell_type": "markdown",
      "source": [
        "## Step 6: Monitor and use the fine-tuned model\n",
        "\n",
        "Check list of fine-tuning jobs, retrieve job details."
      ],
      "metadata": {
        "id": "VADrU60f2yRn"
      }
    },
    {
      "cell_type": "code",
      "source": [
        "# List fine-tuning jobs\n",
        "jobs = client.fine_tuning.jobs.list(limit=10)\n",
        "print(\"Recent fine-tuning jobs:\", jobs)"
      ],
      "metadata": {
        "id": "md147WBs3LAo",
        "colab": {
          "base_uri": "https://localhost:8080/"
        },
        "outputId": "4dad2ccb-6cdf-4f5a-f47a-0bc2b1ad7a68"
      },
      "execution_count": 27,
      "outputs": [
        {
          "output_type": "stream",
          "name": "stdout",
          "text": [
            "Recent fine-tuning jobs: SyncCursorPage[FineTuningJob](data=[FineTuningJob(id='ftjob-UtNug0vjeyDzIvOsrdxaHjJM', created_at=1735697140, error=Error(code=None, message=None, param=None), fine_tuned_model='ft:gpt-4o-2024-08-06:personal:custom-fine-tuned-model:AkiUjxl8', finished_at=1735697488, hyperparameters=Hyperparameters(n_epochs=3, batch_size=1, learning_rate_multiplier=2), model='gpt-4o-2024-08-06', object='fine_tuning.job', organization_id='org-YcB7xnG9MjnCVW9Sk2t2QtNQ', result_files=['file-MYJHEt65t9PZHLx86u61kZ'], seed=855574480, status='succeeded', trained_tokens=6078, training_file='file-3qnwMKk1rw9PEhnAhTsLc4', validation_file=None, estimated_finish=None, integrations=[], user_provided_suffix='custom-fine-tuned-model', method={'type': 'supervised', 'supervised': {'hyperparameters': {'n_epochs': 3, 'batch_size': 1, 'learning_rate_multiplier': 2.0}}}), FineTuningJob(id='ftjob-JMNgRsBtRqWuPH01FpIGjkbA', created_at=1735696184, error=Error(code=None, message=None, param=None), fine_tuned_model='ft:gpt-4o-mini-2024-07-18:personal:custom-fine-tuned-model:AkiEWy7F', finished_at=1735696482, hyperparameters=Hyperparameters(n_epochs=3, batch_size=1, learning_rate_multiplier=1.8), model='gpt-4o-mini-2024-07-18', object='fine_tuning.job', organization_id='org-YcB7xnG9MjnCVW9Sk2t2QtNQ', result_files=['file-8WGehf7jLEVYqS5L7tP8Kz'], seed=1170080283, status='succeeded', trained_tokens=4146, training_file='file-XQ9fxJa3D9vAAHdpL79KEt', validation_file=None, estimated_finish=None, integrations=[], user_provided_suffix='custom-fine-tuned-model', method={'type': 'supervised', 'supervised': {'hyperparameters': {'n_epochs': 3, 'batch_size': 1, 'learning_rate_multiplier': 1.8}}}), FineTuningJob(id='ftjob-yVELUQIyAXBFp2VBJyUiP8uz', created_at=1735695897, error=Error(code=None, message=None, param=None), fine_tuned_model='ft:gpt-4o-mini-2024-07-18:personal:custom-fine-tuned-model:Aki9rFWG', finished_at=1735696194, hyperparameters=Hyperparameters(n_epochs=3, batch_size=1, learning_rate_multiplier=1.8), model='gpt-4o-mini-2024-07-18', object='fine_tuning.job', organization_id='org-YcB7xnG9MjnCVW9Sk2t2QtNQ', result_files=['file-CvDHtr5NR1YP1Ezm3sqAbg'], seed=1105441013, status='succeeded', trained_tokens=4146, training_file='file-BmgpgSLYqUUUPiuekosH5d', validation_file=None, estimated_finish=None, integrations=[], user_provided_suffix='custom-fine-tuned-model', method={'type': 'supervised', 'supervised': {'hyperparameters': {'n_epochs': 3, 'batch_size': 1, 'learning_rate_multiplier': 1.8}}}), FineTuningJob(id='ftjob-MVAP8nBL0h6ztpJTxEaJgGAN', created_at=1735695791, error=Error(code=None, message=None, param=None), fine_tuned_model='ft:gpt-4o-mini-2024-07-18:personal:custom-fine-tuned-model:Aki8CcuC', finished_at=1735696091, hyperparameters=Hyperparameters(n_epochs=3, batch_size=1, learning_rate_multiplier=1.8), model='gpt-4o-mini-2024-07-18', object='fine_tuning.job', organization_id='org-YcB7xnG9MjnCVW9Sk2t2QtNQ', result_files=['file-FCesBrdCRy6vYir4vXJDye'], seed=1083671001, status='succeeded', trained_tokens=4146, training_file='file-7hULRHtoi937KKFS61U51e', validation_file=None, estimated_finish=None, integrations=[], user_provided_suffix='custom-fine-tuned-model', method={'type': 'supervised', 'supervised': {'hyperparameters': {'n_epochs': 3, 'batch_size': 1, 'learning_rate_multiplier': 1.8}}}), FineTuningJob(id='ftjob-FExgTv6izT7yZpArmliXE2V4', created_at=1735695605, error=Error(code=None, message=None, param=None), fine_tuned_model='ft:gpt-4o-mini-2024-07-18:personal:custom-fine-tuned-model:Aki5ARR9', finished_at=1735695902, hyperparameters=Hyperparameters(n_epochs=3, batch_size=1, learning_rate_multiplier=1.8), model='gpt-4o-mini-2024-07-18', object='fine_tuning.job', organization_id='org-YcB7xnG9MjnCVW9Sk2t2QtNQ', result_files=['file-4Bg523NKEacS3n1dGuozL7'], seed=286138373, status='succeeded', trained_tokens=4146, training_file='file-6gqao6BXfWCpVTPDRdaLGJ', validation_file=None, estimated_finish=None, integrations=[], user_provided_suffix='custom-fine-tuned-model', method={'type': 'supervised', 'supervised': {'hyperparameters': {'n_epochs': 3, 'batch_size': 1, 'learning_rate_multiplier': 1.8}}}), FineTuningJob(id='ftjob-2cZU2YBtozn41s9Y5q34koSV', created_at=1735695482, error=Error(code=None, message=None, param=None), fine_tuned_model='ft:gpt-4o-mini-2024-07-18:personal:custom-fine-tuned-model:Aki3AaUM', finished_at=1735695778, hyperparameters=Hyperparameters(n_epochs=3, batch_size=1, learning_rate_multiplier=1.8), model='gpt-4o-mini-2024-07-18', object='fine_tuning.job', organization_id='org-YcB7xnG9MjnCVW9Sk2t2QtNQ', result_files=['file-GBmBRfnh9QYP7f9BmtQzN4'], seed=1483197293, status='succeeded', trained_tokens=4146, training_file='file-EGjemDpBFRRDM8kFKTUUPd', validation_file=None, estimated_finish=None, integrations=[], user_provided_suffix='custom-fine-tuned-model', method={'type': 'supervised', 'supervised': {'hyperparameters': {'n_epochs': 3, 'batch_size': 1, 'learning_rate_multiplier': 1.8}}})], object='list', has_more=False)\n"
          ]
        }
      ]
    },
    {
      "cell_type": "code",
      "source": [
        "# Retrieve job details\n",
        "job_details = client.fine_tuning.jobs.retrieve(fine_tune_job.id)\n",
        "print(\"Fine-tuning job details:\", job_details)"
      ],
      "metadata": {
        "colab": {
          "base_uri": "https://localhost:8080/"
        },
        "id": "STiBDEfWNH_B",
        "outputId": "dfef79bb-c889-408a-a8bd-14fe54afbe5e"
      },
      "execution_count": 14,
      "outputs": [
        {
          "output_type": "stream",
          "name": "stdout",
          "text": [
            "Fine-tuning job details: FineTuningJob(id='ftjob-JMNgRsBtRqWuPH01FpIGjkbA', created_at=1735696184, error=Error(code=None, message=None, param=None), fine_tuned_model='ft:gpt-4o-mini-2024-07-18:personal:custom-fine-tuned-model:AkiEWy7F', finished_at=1735696482, hyperparameters=Hyperparameters(n_epochs=3, batch_size=1, learning_rate_multiplier=1.8), model='gpt-4o-mini-2024-07-18', object='fine_tuning.job', organization_id='org-YcB7xnG9MjnCVW9Sk2t2QtNQ', result_files=['file-8WGehf7jLEVYqS5L7tP8Kz'], seed=1170080283, status='succeeded', trained_tokens=4146, training_file='file-XQ9fxJa3D9vAAHdpL79KEt', validation_file=None, estimated_finish=None, integrations=[], user_provided_suffix='custom-fine-tuned-model', method={'type': 'supervised', 'supervised': {'hyperparameters': {'n_epochs': 3, 'batch_size': 1, 'learning_rate_multiplier': 1.8}}})\n"
          ]
        }
      ]
    },
    {
      "cell_type": "code",
      "source": [
        "# Retrieve after model is trained to get the model name\n",
        "job_details = client.fine_tuning.jobs.retrieve(fine_tune_job.id)\n",
        "print(\"Fine-tuning job details:\", job_details)"
      ],
      "metadata": {
        "colab": {
          "base_uri": "https://localhost:8080/"
        },
        "id": "poRCrkKlOHdY",
        "outputId": "433632a0-745b-4eb1-f02b-64cf5b51f871"
      },
      "execution_count": 15,
      "outputs": [
        {
          "output_type": "stream",
          "name": "stdout",
          "text": [
            "Fine-tuning job details: FineTuningJob(id='ftjob-JMNgRsBtRqWuPH01FpIGjkbA', created_at=1735696184, error=Error(code=None, message=None, param=None), fine_tuned_model='ft:gpt-4o-mini-2024-07-18:personal:custom-fine-tuned-model:AkiEWy7F', finished_at=1735696482, hyperparameters=Hyperparameters(n_epochs=3, batch_size=1, learning_rate_multiplier=1.8), model='gpt-4o-mini-2024-07-18', object='fine_tuning.job', organization_id='org-YcB7xnG9MjnCVW9Sk2t2QtNQ', result_files=['file-8WGehf7jLEVYqS5L7tP8Kz'], seed=1170080283, status='succeeded', trained_tokens=4146, training_file='file-XQ9fxJa3D9vAAHdpL79KEt', validation_file=None, estimated_finish=None, integrations=[], user_provided_suffix='custom-fine-tuned-model', method={'type': 'supervised', 'supervised': {'hyperparameters': {'n_epochs': 3, 'batch_size': 1, 'learning_rate_multiplier': 1.8}}})\n"
          ]
        }
      ]
    },
    {
      "cell_type": "markdown",
      "source": [
        "## Step 7: Use the fine-tuned model"
      ],
      "metadata": {
        "id": "QO4tPP_o2zgQ"
      }
    },
    {
      "cell_type": "code",
      "source": [
        "# Example call to the fine-tuned model\n",
        "completion = client.chat.completions.create(\n",
        "    model=\"ft:gpt-4o-mini-2024-07-18:personal:custom-fine-tuned-model:AkiEWy7F\",\n",
        "    # Replace with the actual model name retrieved in above cell fine_tuned_model='ft:gpt-4o-mini-2024-07-18:personal:custom-fine-tuned-model:AbOWr1n9'\n",
        "    messages=[\n",
        "        {\"role\": \"system\", \"content\": \"You are a helpful assistant which acts as FAQ Support Assistant for the TMLC Guided Projects in Generative AI Program and answer to user queries.\"},\n",
        "        {\"role\": \"user\", \"content\": \"When does the latest cohort/program starts?\"}\n",
        "    ]\n",
        ")\n",
        "print(\"Fine-tuned model response:\", completion.choices[0].message.content)"
      ],
      "metadata": {
        "id": "Bh2TaZFo2tNJ",
        "colab": {
          "base_uri": "https://localhost:8080/"
        },
        "outputId": "50b65b27-e2ec-4e4e-e675-dce2693fff1a"
      },
      "execution_count": 20,
      "outputs": [
        {
          "output_type": "stream",
          "name": "stdout",
          "text": [
            "Fine-tuned model response: The latest cohort starts on 23rd November 2024 \n"
          ]
        }
      ]
    },
    {
      "cell_type": "code",
      "source": [],
      "metadata": {
        "id": "YdRjLtWOlNr7"
      },
      "execution_count": null,
      "outputs": []
    }
  ]
}
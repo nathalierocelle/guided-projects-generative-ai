{
  "nbformat": 4,
  "nbformat_minor": 0,
  "metadata": {
    "colab": {
      "provenance": [],
      "name": "project1_finetune_openai.ipynb",
      "include_colab_link": true
    },
    "kernelspec": {
      "name": "python3",
      "display_name": "Python 3"
    },
    "language_info": {
      "name": "python"
    }
  },
  "cells": [
    {
      "cell_type": "markdown",
      "metadata": {
        "id": "view-in-github",
        "colab_type": "text"
      },
      "source": [
        "<a href=\"https://colab.research.google.com/github/nathalierocelle/guided-projects-generative-ai/blob/main/project1_finetuned_openai.ipynb\" target=\"_parent\"><img src=\"https://colab.research.google.com/assets/colab-badge.svg\" alt=\"Open In Colab\"/></a>"
      ]
    },
    {
      "cell_type": "markdown",
      "source": [
        "# Project 1: Finetuning OpenAI models for the Customer Support use-case\n",
        "## Business Domain: AI Assistant in Banking Domain\n",
        "## Use Cases:\n",
        "\n",
        "1. Users seeking assistance with checking their account balance through various channels like online banking, mobile app, or ATM.\n",
        "2. Customers needing information about required documents and procedures for opening a new bank account.\n",
        "3. People requesting guidance on setting up and navigating digital banking services and mobile applications.\n",
        "4. Customers requiring help with various types of money transfers, including internal, external, and wire transfers.\n",
        "5. Employees looking to set up direct deposits and understand routing numbers and account requirements.\n",
        "6. Customers experiencing security concerns such as lost cards or suspicious activities requiring immediate attention."
      ],
      "metadata": {
        "id": "reTZmL85-WO6"
      }
    },
    {
      "cell_type": "markdown",
      "source": [
        "## Step 1: Install and import the required library\n"
      ],
      "metadata": {
        "id": "Rpi2JDlo2mLC"
      }
    },
    {
      "cell_type": "code",
      "source": [
        "!pip install openai==1.55.3 httpx==0.27.2"
      ],
      "metadata": {
        "id": "m4ZtKeih2ncx",
        "colab": {
          "base_uri": "https://localhost:8080/"
        },
        "outputId": "87eea1ed-3b83-4c07-ae99-a2e7e18bc74e"
      },
      "execution_count": 9,
      "outputs": [
        {
          "output_type": "stream",
          "name": "stdout",
          "text": [
            "Collecting openai==1.55.3\n",
            "  Downloading openai-1.55.3-py3-none-any.whl.metadata (24 kB)\n",
            "Collecting httpx==0.27.2\n",
            "  Downloading httpx-0.27.2-py3-none-any.whl.metadata (7.1 kB)\n",
            "Requirement already satisfied: anyio<5,>=3.5.0 in /usr/local/lib/python3.10/dist-packages (from openai==1.55.3) (3.7.1)\n",
            "Requirement already satisfied: distro<2,>=1.7.0 in /usr/local/lib/python3.10/dist-packages (from openai==1.55.3) (1.9.0)\n",
            "Requirement already satisfied: jiter<1,>=0.4.0 in /usr/local/lib/python3.10/dist-packages (from openai==1.55.3) (0.8.2)\n",
            "Requirement already satisfied: pydantic<3,>=1.9.0 in /usr/local/lib/python3.10/dist-packages (from openai==1.55.3) (2.10.3)\n",
            "Requirement already satisfied: sniffio in /usr/local/lib/python3.10/dist-packages (from openai==1.55.3) (1.3.1)\n",
            "Requirement already satisfied: tqdm>4 in /usr/local/lib/python3.10/dist-packages (from openai==1.55.3) (4.67.1)\n",
            "Requirement already satisfied: typing-extensions<5,>=4.11 in /usr/local/lib/python3.10/dist-packages (from openai==1.55.3) (4.12.2)\n",
            "Requirement already satisfied: certifi in /usr/local/lib/python3.10/dist-packages (from httpx==0.27.2) (2024.12.14)\n",
            "Requirement already satisfied: httpcore==1.* in /usr/local/lib/python3.10/dist-packages (from httpx==0.27.2) (1.0.7)\n",
            "Requirement already satisfied: idna in /usr/local/lib/python3.10/dist-packages (from httpx==0.27.2) (3.10)\n",
            "Requirement already satisfied: h11<0.15,>=0.13 in /usr/local/lib/python3.10/dist-packages (from httpcore==1.*->httpx==0.27.2) (0.14.0)\n",
            "Requirement already satisfied: exceptiongroup in /usr/local/lib/python3.10/dist-packages (from anyio<5,>=3.5.0->openai==1.55.3) (1.2.2)\n",
            "Requirement already satisfied: annotated-types>=0.6.0 in /usr/local/lib/python3.10/dist-packages (from pydantic<3,>=1.9.0->openai==1.55.3) (0.7.0)\n",
            "Requirement already satisfied: pydantic-core==2.27.1 in /usr/local/lib/python3.10/dist-packages (from pydantic<3,>=1.9.0->openai==1.55.3) (2.27.1)\n",
            "Downloading openai-1.55.3-py3-none-any.whl (389 kB)\n",
            "\u001b[2K   \u001b[90m━━━━━━━━━━━━━━━━━━━━━━━━━━━━━━━━━━━━━━━━\u001b[0m \u001b[32m389.6/389.6 kB\u001b[0m \u001b[31m10.2 MB/s\u001b[0m eta \u001b[36m0:00:00\u001b[0m\n",
            "\u001b[?25hDownloading httpx-0.27.2-py3-none-any.whl (76 kB)\n",
            "\u001b[2K   \u001b[90m━━━━━━━━━━━━━━━━━━━━━━━━━━━━━━━━━━━━━━━━\u001b[0m \u001b[32m76.4/76.4 kB\u001b[0m \u001b[31m5.2 MB/s\u001b[0m eta \u001b[36m0:00:00\u001b[0m\n",
            "\u001b[?25hInstalling collected packages: httpx, openai\n",
            "  Attempting uninstall: httpx\n",
            "    Found existing installation: httpx 0.28.1\n",
            "    Uninstalling httpx-0.28.1:\n",
            "      Successfully uninstalled httpx-0.28.1\n",
            "  Attempting uninstall: openai\n",
            "    Found existing installation: openai 1.57.4\n",
            "    Uninstalling openai-1.57.4:\n",
            "      Successfully uninstalled openai-1.57.4\n",
            "Successfully installed httpx-0.27.2 openai-1.55.3\n"
          ]
        }
      ]
    },
    {
      "cell_type": "code",
      "source": [
        "import os\n",
        "import pandas as pd\n",
        "import json\n",
        "from openai import OpenAI\n",
        "import zipfile"
      ],
      "metadata": {
        "id": "rKpH1ovI2pDR"
      },
      "execution_count": 13,
      "outputs": []
    },
    {
      "cell_type": "markdown",
      "source": [
        "## Step 2: Set up the OpenAI API key\n"
      ],
      "metadata": {
        "id": "p4AekMfl2rOg"
      }
    },
    {
      "cell_type": "code",
      "source": [
        "from google.colab import userdata\n",
        "OpenAI_API = userdata.get('OPENAI_API_KEY')"
      ],
      "metadata": {
        "id": "G-zp8H3ZKVxj"
      },
      "execution_count": 11,
      "outputs": []
    },
    {
      "cell_type": "code",
      "source": [
        "os.environ[\"OPENAI_API_KEY\"] = OpenAI_API"
      ],
      "metadata": {
        "id": "rW0m0tywjZmO"
      },
      "execution_count": 12,
      "outputs": []
    },
    {
      "cell_type": "markdown",
      "source": [
        "## Step 3: Prepare the dataset"
      ],
      "metadata": {
        "id": "ZU9Lx5yu2uLY"
      }
    },
    {
      "cell_type": "code",
      "source": [
        "#!/bin/bash\n",
        "!curl -L -o ~/banking-chatbot-data.zip\\\n",
        "  https://www.kaggle.com/api/v1/datasets/download/manojajj/banking-chatbot"
      ],
      "metadata": {
        "colab": {
          "base_uri": "https://localhost:8080/"
        },
        "id": "AZS1eU2-7VjS",
        "outputId": "1c23428e-f707-41a1-c089-e6d301ae7795"
      },
      "execution_count": 15,
      "outputs": [
        {
          "output_type": "stream",
          "name": "stdout",
          "text": [
            "  % Total    % Received % Xferd  Average Speed   Time    Time     Time  Current\n",
            "                                 Dload  Upload   Total   Spent    Left  Speed\n",
            "  0     0    0     0    0     0      0      0 --:--:-- --:--:-- --:--:--     0\n",
            "100  5859  100  5859    0     0   9223      0 --:--:-- --:--:-- --:--:--  9223\n"
          ]
        }
      ]
    },
    {
      "cell_type": "code",
      "source": [
        "zip_path = \"/root/banking-chatbot-data.zip\"\n",
        "\n",
        "with zipfile.ZipFile(zip_path, 'r') as zip_ref:\n",
        "  # List all files in the zip\n",
        "  files = zip_ref.namelist()\n",
        "  # Find the first CSV file\n",
        "  csv_file = next((f for f in files if f.lower().endswith('.csv')), None)\n",
        "\n",
        "  if csv_file is None:\n",
        "    raise ValueError(\"No CSV file found in the zip archive\")\n",
        "\n",
        "  # Read the CSV file directly from the zip\n",
        "  with zip_ref.open(csv_file) as file:\n",
        "    df = pd.read_csv(file,encoding='latin1')"
      ],
      "metadata": {
        "id": "kztuG2Js7yK4"
      },
      "execution_count": 24,
      "outputs": []
    },
    {
      "cell_type": "code",
      "source": [
        "df.head()"
      ],
      "metadata": {
        "colab": {
          "base_uri": "https://localhost:8080/",
          "height": 206
        },
        "id": "pUu5Aewl9k_d",
        "outputId": "088d2f1b-e13d-458a-ccfa-ea1f5768aeac"
      },
      "execution_count": 25,
      "outputs": [
        {
          "output_type": "execute_result",
          "data": {
            "text/plain": [
              "                                               Query  \\\n",
              "0                 How can I open a new bank account?   \n",
              "1  What do I need to provide to open a bank account?   \n",
              "2                How can I check my account balance?   \n",
              "3          How do I transfer money between accounts?   \n",
              "4       Can I set up direct deposit for my paycheck?   \n",
              "\n",
              "                                            Response  \n",
              "0  To open a new bank account, visit our website ...  \n",
              "1  You will need to provide a valid ID, proof of ...  \n",
              "2  You can check your account balance by logging ...  \n",
              "3  Log into your online banking account or mobile...  \n",
              "4  Yes, you can set up direct deposit by providin...  "
            ],
            "text/html": [
              "\n",
              "  <div id=\"df-65ce9786-ad8b-4259-a837-e8c23e3f0522\" class=\"colab-df-container\">\n",
              "    <div>\n",
              "<style scoped>\n",
              "    .dataframe tbody tr th:only-of-type {\n",
              "        vertical-align: middle;\n",
              "    }\n",
              "\n",
              "    .dataframe tbody tr th {\n",
              "        vertical-align: top;\n",
              "    }\n",
              "\n",
              "    .dataframe thead th {\n",
              "        text-align: right;\n",
              "    }\n",
              "</style>\n",
              "<table border=\"1\" class=\"dataframe\">\n",
              "  <thead>\n",
              "    <tr style=\"text-align: right;\">\n",
              "      <th></th>\n",
              "      <th>Query</th>\n",
              "      <th>Response</th>\n",
              "    </tr>\n",
              "  </thead>\n",
              "  <tbody>\n",
              "    <tr>\n",
              "      <th>0</th>\n",
              "      <td>How can I open a new bank account?</td>\n",
              "      <td>To open a new bank account, visit our website ...</td>\n",
              "    </tr>\n",
              "    <tr>\n",
              "      <th>1</th>\n",
              "      <td>What do I need to provide to open a bank account?</td>\n",
              "      <td>You will need to provide a valid ID, proof of ...</td>\n",
              "    </tr>\n",
              "    <tr>\n",
              "      <th>2</th>\n",
              "      <td>How can I check my account balance?</td>\n",
              "      <td>You can check your account balance by logging ...</td>\n",
              "    </tr>\n",
              "    <tr>\n",
              "      <th>3</th>\n",
              "      <td>How do I transfer money between accounts?</td>\n",
              "      <td>Log into your online banking account or mobile...</td>\n",
              "    </tr>\n",
              "    <tr>\n",
              "      <th>4</th>\n",
              "      <td>Can I set up direct deposit for my paycheck?</td>\n",
              "      <td>Yes, you can set up direct deposit by providin...</td>\n",
              "    </tr>\n",
              "  </tbody>\n",
              "</table>\n",
              "</div>\n",
              "    <div class=\"colab-df-buttons\">\n",
              "\n",
              "  <div class=\"colab-df-container\">\n",
              "    <button class=\"colab-df-convert\" onclick=\"convertToInteractive('df-65ce9786-ad8b-4259-a837-e8c23e3f0522')\"\n",
              "            title=\"Convert this dataframe to an interactive table.\"\n",
              "            style=\"display:none;\">\n",
              "\n",
              "  <svg xmlns=\"http://www.w3.org/2000/svg\" height=\"24px\" viewBox=\"0 -960 960 960\">\n",
              "    <path d=\"M120-120v-720h720v720H120Zm60-500h600v-160H180v160Zm220 220h160v-160H400v160Zm0 220h160v-160H400v160ZM180-400h160v-160H180v160Zm440 0h160v-160H620v160ZM180-180h160v-160H180v160Zm440 0h160v-160H620v160Z\"/>\n",
              "  </svg>\n",
              "    </button>\n",
              "\n",
              "  <style>\n",
              "    .colab-df-container {\n",
              "      display:flex;\n",
              "      gap: 12px;\n",
              "    }\n",
              "\n",
              "    .colab-df-convert {\n",
              "      background-color: #E8F0FE;\n",
              "      border: none;\n",
              "      border-radius: 50%;\n",
              "      cursor: pointer;\n",
              "      display: none;\n",
              "      fill: #1967D2;\n",
              "      height: 32px;\n",
              "      padding: 0 0 0 0;\n",
              "      width: 32px;\n",
              "    }\n",
              "\n",
              "    .colab-df-convert:hover {\n",
              "      background-color: #E2EBFA;\n",
              "      box-shadow: 0px 1px 2px rgba(60, 64, 67, 0.3), 0px 1px 3px 1px rgba(60, 64, 67, 0.15);\n",
              "      fill: #174EA6;\n",
              "    }\n",
              "\n",
              "    .colab-df-buttons div {\n",
              "      margin-bottom: 4px;\n",
              "    }\n",
              "\n",
              "    [theme=dark] .colab-df-convert {\n",
              "      background-color: #3B4455;\n",
              "      fill: #D2E3FC;\n",
              "    }\n",
              "\n",
              "    [theme=dark] .colab-df-convert:hover {\n",
              "      background-color: #434B5C;\n",
              "      box-shadow: 0px 1px 3px 1px rgba(0, 0, 0, 0.15);\n",
              "      filter: drop-shadow(0px 1px 2px rgba(0, 0, 0, 0.3));\n",
              "      fill: #FFFFFF;\n",
              "    }\n",
              "  </style>\n",
              "\n",
              "    <script>\n",
              "      const buttonEl =\n",
              "        document.querySelector('#df-65ce9786-ad8b-4259-a837-e8c23e3f0522 button.colab-df-convert');\n",
              "      buttonEl.style.display =\n",
              "        google.colab.kernel.accessAllowed ? 'block' : 'none';\n",
              "\n",
              "      async function convertToInteractive(key) {\n",
              "        const element = document.querySelector('#df-65ce9786-ad8b-4259-a837-e8c23e3f0522');\n",
              "        const dataTable =\n",
              "          await google.colab.kernel.invokeFunction('convertToInteractive',\n",
              "                                                    [key], {});\n",
              "        if (!dataTable) return;\n",
              "\n",
              "        const docLinkHtml = 'Like what you see? Visit the ' +\n",
              "          '<a target=\"_blank\" href=https://colab.research.google.com/notebooks/data_table.ipynb>data table notebook</a>'\n",
              "          + ' to learn more about interactive tables.';\n",
              "        element.innerHTML = '';\n",
              "        dataTable['output_type'] = 'display_data';\n",
              "        await google.colab.output.renderOutput(dataTable, element);\n",
              "        const docLink = document.createElement('div');\n",
              "        docLink.innerHTML = docLinkHtml;\n",
              "        element.appendChild(docLink);\n",
              "      }\n",
              "    </script>\n",
              "  </div>\n",
              "\n",
              "\n",
              "<div id=\"df-f3f73d4b-a8cb-44a3-b587-d539fb4d79ff\">\n",
              "  <button class=\"colab-df-quickchart\" onclick=\"quickchart('df-f3f73d4b-a8cb-44a3-b587-d539fb4d79ff')\"\n",
              "            title=\"Suggest charts\"\n",
              "            style=\"display:none;\">\n",
              "\n",
              "<svg xmlns=\"http://www.w3.org/2000/svg\" height=\"24px\"viewBox=\"0 0 24 24\"\n",
              "     width=\"24px\">\n",
              "    <g>\n",
              "        <path d=\"M19 3H5c-1.1 0-2 .9-2 2v14c0 1.1.9 2 2 2h14c1.1 0 2-.9 2-2V5c0-1.1-.9-2-2-2zM9 17H7v-7h2v7zm4 0h-2V7h2v10zm4 0h-2v-4h2v4z\"/>\n",
              "    </g>\n",
              "</svg>\n",
              "  </button>\n",
              "\n",
              "<style>\n",
              "  .colab-df-quickchart {\n",
              "      --bg-color: #E8F0FE;\n",
              "      --fill-color: #1967D2;\n",
              "      --hover-bg-color: #E2EBFA;\n",
              "      --hover-fill-color: #174EA6;\n",
              "      --disabled-fill-color: #AAA;\n",
              "      --disabled-bg-color: #DDD;\n",
              "  }\n",
              "\n",
              "  [theme=dark] .colab-df-quickchart {\n",
              "      --bg-color: #3B4455;\n",
              "      --fill-color: #D2E3FC;\n",
              "      --hover-bg-color: #434B5C;\n",
              "      --hover-fill-color: #FFFFFF;\n",
              "      --disabled-bg-color: #3B4455;\n",
              "      --disabled-fill-color: #666;\n",
              "  }\n",
              "\n",
              "  .colab-df-quickchart {\n",
              "    background-color: var(--bg-color);\n",
              "    border: none;\n",
              "    border-radius: 50%;\n",
              "    cursor: pointer;\n",
              "    display: none;\n",
              "    fill: var(--fill-color);\n",
              "    height: 32px;\n",
              "    padding: 0;\n",
              "    width: 32px;\n",
              "  }\n",
              "\n",
              "  .colab-df-quickchart:hover {\n",
              "    background-color: var(--hover-bg-color);\n",
              "    box-shadow: 0 1px 2px rgba(60, 64, 67, 0.3), 0 1px 3px 1px rgba(60, 64, 67, 0.15);\n",
              "    fill: var(--button-hover-fill-color);\n",
              "  }\n",
              "\n",
              "  .colab-df-quickchart-complete:disabled,\n",
              "  .colab-df-quickchart-complete:disabled:hover {\n",
              "    background-color: var(--disabled-bg-color);\n",
              "    fill: var(--disabled-fill-color);\n",
              "    box-shadow: none;\n",
              "  }\n",
              "\n",
              "  .colab-df-spinner {\n",
              "    border: 2px solid var(--fill-color);\n",
              "    border-color: transparent;\n",
              "    border-bottom-color: var(--fill-color);\n",
              "    animation:\n",
              "      spin 1s steps(1) infinite;\n",
              "  }\n",
              "\n",
              "  @keyframes spin {\n",
              "    0% {\n",
              "      border-color: transparent;\n",
              "      border-bottom-color: var(--fill-color);\n",
              "      border-left-color: var(--fill-color);\n",
              "    }\n",
              "    20% {\n",
              "      border-color: transparent;\n",
              "      border-left-color: var(--fill-color);\n",
              "      border-top-color: var(--fill-color);\n",
              "    }\n",
              "    30% {\n",
              "      border-color: transparent;\n",
              "      border-left-color: var(--fill-color);\n",
              "      border-top-color: var(--fill-color);\n",
              "      border-right-color: var(--fill-color);\n",
              "    }\n",
              "    40% {\n",
              "      border-color: transparent;\n",
              "      border-right-color: var(--fill-color);\n",
              "      border-top-color: var(--fill-color);\n",
              "    }\n",
              "    60% {\n",
              "      border-color: transparent;\n",
              "      border-right-color: var(--fill-color);\n",
              "    }\n",
              "    80% {\n",
              "      border-color: transparent;\n",
              "      border-right-color: var(--fill-color);\n",
              "      border-bottom-color: var(--fill-color);\n",
              "    }\n",
              "    90% {\n",
              "      border-color: transparent;\n",
              "      border-bottom-color: var(--fill-color);\n",
              "    }\n",
              "  }\n",
              "</style>\n",
              "\n",
              "  <script>\n",
              "    async function quickchart(key) {\n",
              "      const quickchartButtonEl =\n",
              "        document.querySelector('#' + key + ' button');\n",
              "      quickchartButtonEl.disabled = true;  // To prevent multiple clicks.\n",
              "      quickchartButtonEl.classList.add('colab-df-spinner');\n",
              "      try {\n",
              "        const charts = await google.colab.kernel.invokeFunction(\n",
              "            'suggestCharts', [key], {});\n",
              "      } catch (error) {\n",
              "        console.error('Error during call to suggestCharts:', error);\n",
              "      }\n",
              "      quickchartButtonEl.classList.remove('colab-df-spinner');\n",
              "      quickchartButtonEl.classList.add('colab-df-quickchart-complete');\n",
              "    }\n",
              "    (() => {\n",
              "      let quickchartButtonEl =\n",
              "        document.querySelector('#df-f3f73d4b-a8cb-44a3-b587-d539fb4d79ff button');\n",
              "      quickchartButtonEl.style.display =\n",
              "        google.colab.kernel.accessAllowed ? 'block' : 'none';\n",
              "    })();\n",
              "  </script>\n",
              "</div>\n",
              "\n",
              "    </div>\n",
              "  </div>\n"
            ],
            "application/vnd.google.colaboratory.intrinsic+json": {
              "type": "dataframe",
              "variable_name": "df",
              "summary": "{\n  \"name\": \"df\",\n  \"rows\": 145,\n  \"fields\": [\n    {\n      \"column\": \"Query\",\n      \"properties\": {\n        \"dtype\": \"string\",\n        \"num_unique_values\": 141,\n        \"samples\": [\n          \"How do I apply for a credit card?\",\n          \"What should I do if I notice an unauthorized transaction?\",\n          \"How do I stop payment on a check?\"\n        ],\n        \"semantic_type\": \"\",\n        \"description\": \"\"\n      }\n    },\n    {\n      \"column\": \"Response\",\n      \"properties\": {\n        \"dtype\": \"string\",\n        \"num_unique_values\": 143,\n        \"samples\": [\n          \"Account minimum balance requirements are detailed in our account terms and conditions. Review the information on our website or contact customer service.\",\n          \"Yes, we offer financial planning services. Please visit our website or contact our financial advisors for more information and to schedule a consultation.\",\n          \"To dispute a charge, contact our customer service with the details of the charge and any supporting documentation.\"\n        ],\n        \"semantic_type\": \"\",\n        \"description\": \"\"\n      }\n    }\n  ]\n}"
            }
          },
          "metadata": {},
          "execution_count": 25
        }
      ]
    },
    {
      "cell_type": "code",
      "source": [
        "# Convert the dataset to JSONL format\n",
        "output_file = 'banking-data.jsonl'\n",
        "with open(output_file, 'w') as f:\n",
        "    for _, row in df.iterrows():\n",
        "        # Create JSON lines for chat model fine-tuning\n",
        "        json_line = json.dumps({\n",
        "            \"messages\": [\n",
        "                {\"role\": \"system\", \"content\": \"You are a Banking FAQ Support Assistant who provides clear, helpful answers about banking services, products, and procedures. You explain banking terms simply, assist with common issues like accounts, cards, loans, transfers and digital banking, while maintaining security by never asking for sensitive data. You give practical solutions in a professional tone, noting that policies may vary by bank, and recommend contacting the bank directly for account-specific issues.\"},\n",
        "                {\"role\": \"user\", \"content\": row['Query']},\n",
        "                {\"role\": \"assistant\", \"content\": row['Response']}\n",
        "            ]\n",
        "        })\n",
        "        f.write(json_line + '\\n')\n",
        "\n",
        "print(f\"Dataset converted and saved to {output_file}\")\n"
      ],
      "metadata": {
        "id": "-B35fhFZ3ATh",
        "colab": {
          "base_uri": "https://localhost:8080/"
        },
        "outputId": "891652e4-c0a7-4d2b-9212-9d0b7c54e6b6"
      },
      "execution_count": 27,
      "outputs": [
        {
          "output_type": "stream",
          "name": "stdout",
          "text": [
            "Dataset converted and saved to banking-data.jsonl\n"
          ]
        }
      ]
    },
    {
      "cell_type": "markdown",
      "source": [
        "## Step 4: Upload the file for fine-tuning\n"
      ],
      "metadata": {
        "id": "e-PxneTJ2vtQ"
      }
    },
    {
      "cell_type": "code",
      "source": [
        "client = OpenAI()"
      ],
      "metadata": {
        "id": "LT_MDQSx29pI"
      },
      "execution_count": 28,
      "outputs": []
    },
    {
      "cell_type": "code",
      "source": [
        "uploaded_file = client.files.create(\n",
        "    file=open(output_file, \"rb\"),\n",
        "    purpose=\"fine-tune\"\n",
        ")\n",
        "print(f\"File uploaded successfully. File ID: {uploaded_file.id}\")"
      ],
      "metadata": {
        "id": "1nB1bEtf3D2Y",
        "colab": {
          "base_uri": "https://localhost:8080/"
        },
        "outputId": "dd9f9c3e-4770-4c9c-d409-a9209ef294e4"
      },
      "execution_count": 29,
      "outputs": [
        {
          "output_type": "stream",
          "name": "stdout",
          "text": [
            "File uploaded successfully. File ID: file-Ndr7fEAUjdEb5UY5CePVM9\n"
          ]
        }
      ]
    },
    {
      "cell_type": "markdown",
      "source": [
        "## Step 5: Fine-tune the model"
      ],
      "metadata": {
        "id": "j-ASD4WO2xAR"
      }
    },
    {
      "cell_type": "code",
      "source": [
        "fine_tune_job = client.fine_tuning.jobs.create(\n",
        "    training_file=uploaded_file.id,\n",
        "    suffix=\"banking-fine-tuned-model\",\n",
        "    model=\"gpt-3.5-turbo-0125\"  # Adjust the model as required\n",
        ")\n",
        "print(f\"Fine-tuning job started. Job ID: {fine_tune_job.id}\")"
      ],
      "metadata": {
        "id": "HROkLOlA3HH4",
        "colab": {
          "base_uri": "https://localhost:8080/"
        },
        "outputId": "794d9fa2-44bd-4401-bf9e-f3607a8f21ed"
      },
      "execution_count": 34,
      "outputs": [
        {
          "output_type": "stream",
          "name": "stdout",
          "text": [
            "Fine-tuning job started. Job ID: ftjob-kGJz7fAvNWMJiMFyuKAAiIMk\n"
          ]
        }
      ]
    },
    {
      "cell_type": "markdown",
      "source": [
        "## Step 6: Monitor and use the fine-tuned model"
      ],
      "metadata": {
        "id": "VADrU60f2yRn"
      }
    },
    {
      "cell_type": "code",
      "source": [
        "# List fine-tuning jobs\n",
        "jobs = client.fine_tuning.jobs.list(limit=10)\n",
        "print(\"Recent fine-tuning jobs:\", jobs)"
      ],
      "metadata": {
        "id": "md147WBs3LAo",
        "colab": {
          "base_uri": "https://localhost:8080/"
        },
        "outputId": "08873fe7-b33f-4fb8-a232-ba36f3b7469d"
      },
      "execution_count": 35,
      "outputs": [
        {
          "output_type": "stream",
          "name": "stdout",
          "text": [
            "Recent fine-tuning jobs: SyncCursorPage[FineTuningJob](data=[FineTuningJob(id='ftjob-kGJz7fAvNWMJiMFyuKAAiIMk', created_at=1735704680, error=Error(code=None, message=None, param=None), fine_tuned_model='ft:gpt-3.5-turbo-0125:personal:banking-fine-tuned-model:AkkcacbM', finished_at=1735705662, hyperparameters=Hyperparameters(n_epochs=3, batch_size=1, learning_rate_multiplier=2), model='gpt-3.5-turbo-0125', object='fine_tuning.job', organization_id='org-YcB7xnG9MjnCVW9Sk2t2QtNQ', result_files=['file-CVPde8gq1uV11aHH4vQiH2'], seed=210080726, status='succeeded', trained_tokens=55587, training_file='file-Ndr7fEAUjdEb5UY5CePVM9', validation_file=None, estimated_finish=None, integrations=[], user_provided_suffix='banking-fine-tuned-model', method={'type': 'supervised', 'supervised': {'hyperparameters': {'n_epochs': 3, 'batch_size': 1, 'learning_rate_multiplier': 2.0}}}), FineTuningJob(id='ftjob-CiO65pBclEYUs5E3Hvkzweux', created_at=1735703898, error=Error(code='server_error', message='The job failed due to an internal error.', param=None), fine_tuned_model=None, finished_at=1735704449, hyperparameters=Hyperparameters(n_epochs=3, batch_size=1, learning_rate_multiplier=1.8), model='gpt-4o-mini-2024-07-18', object='fine_tuning.job', organization_id='org-YcB7xnG9MjnCVW9Sk2t2QtNQ', result_files=[], seed=44341256, status='failed', trained_tokens=None, training_file='file-Ndr7fEAUjdEb5UY5CePVM9', validation_file=None, estimated_finish=1735706883, integrations=[], user_provided_suffix='custom-fine-tuned-model', method={'type': 'supervised', 'supervised': {'hyperparameters': {'n_epochs': 3, 'batch_size': 1, 'learning_rate_multiplier': 1.8}}}), FineTuningJob(id='ftjob-7CkjQgggeXBA3JGUTRqs64Of', created_at=1735703193, error=Error(code=None, message=None, param=None), fine_tuned_model=None, finished_at=1735703859, hyperparameters=Hyperparameters(n_epochs=3, batch_size=1, learning_rate_multiplier=1.8), model='gpt-4o-mini-2024-07-18', object='fine_tuning.job', organization_id='org-YcB7xnG9MjnCVW9Sk2t2QtNQ', result_files=[], seed=1526565513, status='failed', trained_tokens=None, training_file='file-Ndr7fEAUjdEb5UY5CePVM9', validation_file=None, estimated_finish=1735706940, integrations=[], user_provided_suffix='custom-fine-tuned-model', method={'type': 'supervised', 'supervised': {'hyperparameters': {'n_epochs': 3, 'batch_size': 1, 'learning_rate_multiplier': 1.8}}}), FineTuningJob(id='ftjob-UtNug0vjeyDzIvOsrdxaHjJM', created_at=1735697140, error=Error(code=None, message=None, param=None), fine_tuned_model='ft:gpt-4o-2024-08-06:personal:custom-fine-tuned-model:AkiUjxl8', finished_at=1735697488, hyperparameters=Hyperparameters(n_epochs=3, batch_size=1, learning_rate_multiplier=2), model='gpt-4o-2024-08-06', object='fine_tuning.job', organization_id='org-YcB7xnG9MjnCVW9Sk2t2QtNQ', result_files=['file-MYJHEt65t9PZHLx86u61kZ'], seed=855574480, status='succeeded', trained_tokens=6078, training_file='file-3qnwMKk1rw9PEhnAhTsLc4', validation_file=None, estimated_finish=None, integrations=[], user_provided_suffix='custom-fine-tuned-model', method={'type': 'supervised', 'supervised': {'hyperparameters': {'n_epochs': 3, 'batch_size': 1, 'learning_rate_multiplier': 2.0}}}), FineTuningJob(id='ftjob-JMNgRsBtRqWuPH01FpIGjkbA', created_at=1735696184, error=Error(code=None, message=None, param=None), fine_tuned_model='ft:gpt-4o-mini-2024-07-18:personal:custom-fine-tuned-model:AkiEWy7F', finished_at=1735696482, hyperparameters=Hyperparameters(n_epochs=3, batch_size=1, learning_rate_multiplier=1.8), model='gpt-4o-mini-2024-07-18', object='fine_tuning.job', organization_id='org-YcB7xnG9MjnCVW9Sk2t2QtNQ', result_files=['file-8WGehf7jLEVYqS5L7tP8Kz'], seed=1170080283, status='succeeded', trained_tokens=4146, training_file='file-XQ9fxJa3D9vAAHdpL79KEt', validation_file=None, estimated_finish=None, integrations=[], user_provided_suffix='custom-fine-tuned-model', method={'type': 'supervised', 'supervised': {'hyperparameters': {'n_epochs': 3, 'batch_size': 1, 'learning_rate_multiplier': 1.8}}}), FineTuningJob(id='ftjob-yVELUQIyAXBFp2VBJyUiP8uz', created_at=1735695897, error=Error(code=None, message=None, param=None), fine_tuned_model='ft:gpt-4o-mini-2024-07-18:personal:custom-fine-tuned-model:Aki9rFWG', finished_at=1735696194, hyperparameters=Hyperparameters(n_epochs=3, batch_size=1, learning_rate_multiplier=1.8), model='gpt-4o-mini-2024-07-18', object='fine_tuning.job', organization_id='org-YcB7xnG9MjnCVW9Sk2t2QtNQ', result_files=['file-CvDHtr5NR1YP1Ezm3sqAbg'], seed=1105441013, status='succeeded', trained_tokens=4146, training_file='file-BmgpgSLYqUUUPiuekosH5d', validation_file=None, estimated_finish=None, integrations=[], user_provided_suffix='custom-fine-tuned-model', method={'type': 'supervised', 'supervised': {'hyperparameters': {'n_epochs': 3, 'batch_size': 1, 'learning_rate_multiplier': 1.8}}}), FineTuningJob(id='ftjob-MVAP8nBL0h6ztpJTxEaJgGAN', created_at=1735695791, error=Error(code=None, message=None, param=None), fine_tuned_model='ft:gpt-4o-mini-2024-07-18:personal:custom-fine-tuned-model:Aki8CcuC', finished_at=1735696091, hyperparameters=Hyperparameters(n_epochs=3, batch_size=1, learning_rate_multiplier=1.8), model='gpt-4o-mini-2024-07-18', object='fine_tuning.job', organization_id='org-YcB7xnG9MjnCVW9Sk2t2QtNQ', result_files=['file-FCesBrdCRy6vYir4vXJDye'], seed=1083671001, status='succeeded', trained_tokens=4146, training_file='file-7hULRHtoi937KKFS61U51e', validation_file=None, estimated_finish=None, integrations=[], user_provided_suffix='custom-fine-tuned-model', method={'type': 'supervised', 'supervised': {'hyperparameters': {'n_epochs': 3, 'batch_size': 1, 'learning_rate_multiplier': 1.8}}}), FineTuningJob(id='ftjob-FExgTv6izT7yZpArmliXE2V4', created_at=1735695605, error=Error(code=None, message=None, param=None), fine_tuned_model='ft:gpt-4o-mini-2024-07-18:personal:custom-fine-tuned-model:Aki5ARR9', finished_at=1735695902, hyperparameters=Hyperparameters(n_epochs=3, batch_size=1, learning_rate_multiplier=1.8), model='gpt-4o-mini-2024-07-18', object='fine_tuning.job', organization_id='org-YcB7xnG9MjnCVW9Sk2t2QtNQ', result_files=['file-4Bg523NKEacS3n1dGuozL7'], seed=286138373, status='succeeded', trained_tokens=4146, training_file='file-6gqao6BXfWCpVTPDRdaLGJ', validation_file=None, estimated_finish=None, integrations=[], user_provided_suffix='custom-fine-tuned-model', method={'type': 'supervised', 'supervised': {'hyperparameters': {'n_epochs': 3, 'batch_size': 1, 'learning_rate_multiplier': 1.8}}}), FineTuningJob(id='ftjob-2cZU2YBtozn41s9Y5q34koSV', created_at=1735695482, error=Error(code=None, message=None, param=None), fine_tuned_model='ft:gpt-4o-mini-2024-07-18:personal:custom-fine-tuned-model:Aki3AaUM', finished_at=1735695778, hyperparameters=Hyperparameters(n_epochs=3, batch_size=1, learning_rate_multiplier=1.8), model='gpt-4o-mini-2024-07-18', object='fine_tuning.job', organization_id='org-YcB7xnG9MjnCVW9Sk2t2QtNQ', result_files=['file-GBmBRfnh9QYP7f9BmtQzN4'], seed=1483197293, status='succeeded', trained_tokens=4146, training_file='file-EGjemDpBFRRDM8kFKTUUPd', validation_file=None, estimated_finish=None, integrations=[], user_provided_suffix='custom-fine-tuned-model', method={'type': 'supervised', 'supervised': {'hyperparameters': {'n_epochs': 3, 'batch_size': 1, 'learning_rate_multiplier': 1.8}}})], object='list', has_more=False)\n"
          ]
        }
      ]
    },
    {
      "cell_type": "code",
      "source": [
        "# Retrieve job details\n",
        "job_details = client.fine_tuning.jobs.retrieve(fine_tune_job.id)\n",
        "print(\"Fine-tuning job details:\", job_details)"
      ],
      "metadata": {
        "colab": {
          "base_uri": "https://localhost:8080/"
        },
        "id": "STiBDEfWNH_B",
        "outputId": "b1664ad7-b333-4b71-bade-a7bd2d6a01cb"
      },
      "execution_count": 36,
      "outputs": [
        {
          "output_type": "stream",
          "name": "stdout",
          "text": [
            "Fine-tuning job details: FineTuningJob(id='ftjob-kGJz7fAvNWMJiMFyuKAAiIMk', created_at=1735704680, error=Error(code=None, message=None, param=None), fine_tuned_model='ft:gpt-3.5-turbo-0125:personal:banking-fine-tuned-model:AkkcacbM', finished_at=1735705662, hyperparameters=Hyperparameters(n_epochs=3, batch_size=1, learning_rate_multiplier=2), model='gpt-3.5-turbo-0125', object='fine_tuning.job', organization_id='org-YcB7xnG9MjnCVW9Sk2t2QtNQ', result_files=['file-CVPde8gq1uV11aHH4vQiH2'], seed=210080726, status='succeeded', trained_tokens=55587, training_file='file-Ndr7fEAUjdEb5UY5CePVM9', validation_file=None, estimated_finish=None, integrations=[], user_provided_suffix='banking-fine-tuned-model', method={'type': 'supervised', 'supervised': {'hyperparameters': {'n_epochs': 3, 'batch_size': 1, 'learning_rate_multiplier': 2.0}}})\n"
          ]
        }
      ]
    },
    {
      "cell_type": "code",
      "source": [
        "# Retrieve after model is trained to get the model name\n",
        "job_details = client.fine_tuning.jobs.retrieve(fine_tune_job.id)\n",
        "print(\"Fine-tuning job details:\", job_details)"
      ],
      "metadata": {
        "colab": {
          "base_uri": "https://localhost:8080/"
        },
        "id": "poRCrkKlOHdY",
        "outputId": "d60cce21-59c5-487f-822a-f272fec70abe"
      },
      "execution_count": 37,
      "outputs": [
        {
          "output_type": "stream",
          "name": "stdout",
          "text": [
            "Fine-tuning job details: FineTuningJob(id='ftjob-kGJz7fAvNWMJiMFyuKAAiIMk', created_at=1735704680, error=Error(code=None, message=None, param=None), fine_tuned_model='ft:gpt-3.5-turbo-0125:personal:banking-fine-tuned-model:AkkcacbM', finished_at=1735705662, hyperparameters=Hyperparameters(n_epochs=3, batch_size=1, learning_rate_multiplier=2), model='gpt-3.5-turbo-0125', object='fine_tuning.job', organization_id='org-YcB7xnG9MjnCVW9Sk2t2QtNQ', result_files=['file-CVPde8gq1uV11aHH4vQiH2'], seed=210080726, status='succeeded', trained_tokens=55587, training_file='file-Ndr7fEAUjdEb5UY5CePVM9', validation_file=None, estimated_finish=None, integrations=[], user_provided_suffix='banking-fine-tuned-model', method={'type': 'supervised', 'supervised': {'hyperparameters': {'n_epochs': 3, 'batch_size': 1, 'learning_rate_multiplier': 2.0}}})\n"
          ]
        }
      ]
    },
    {
      "cell_type": "markdown",
      "source": [
        "## Step 7: Use the fine-tuned model"
      ],
      "metadata": {
        "id": "QO4tPP_o2zgQ"
      }
    },
    {
      "cell_type": "code",
      "source": [
        "system_prompt = \"\"\"\n",
        "You are a Banking FAQ Support Assistant who provides clear, helpful answers about banking services, products, and procedures.\n",
        "You explain banking terms simply, assist with common issues like accounts, cards, loans, transfers and digital banking, while maintaining security by never asking for sensitive data.\n",
        "You give practical solutions in a professional tone, noting that policies may vary by bank, and recommend contacting the bank directly for account-specific issues.\n",
        "\"\"\""
      ],
      "metadata": {
        "id": "OVJgCMjyLFq4"
      },
      "execution_count": 38,
      "outputs": []
    },
    {
      "cell_type": "code",
      "source": [
        "fine_tuned_model = \"ft:gpt-3.5-turbo-0125:personal:banking-fine-tuned-model:AkkcacbM\""
      ],
      "metadata": {
        "id": "O3TG26ccLNPS"
      },
      "execution_count": 39,
      "outputs": []
    },
    {
      "cell_type": "code",
      "source": [
        "def chat_model(model_name, query):\n",
        "  completion = client.chat.completions.create(\n",
        "    model=model_name,\n",
        "    # Replace with the actual model name retrieved in above cell fine_tuned_model='ft:gpt-4o-mini-2024-07-18:personal:custom-fine-tuned-model:AbOWr1n9'\n",
        "    messages=[\n",
        "        {\"role\": \"system\", \"content\": system_prompt},\n",
        "        {\"role\": \"user\", \"content\": query}\n",
        "    ],\n",
        "    temperature=0)\n",
        "  return completion.choices[0].message.content\n"
      ],
      "metadata": {
        "id": "oLsGBieSLcwi"
      },
      "execution_count": 40,
      "outputs": []
    },
    {
      "cell_type": "markdown",
      "source": [
        "## Step 8: Test the Result\n",
        "\n",
        "\n"
      ],
      "metadata": {
        "id": "UHZwM5eLLs4M"
      }
    },
    {
      "cell_type": "markdown",
      "source": [
        "### Use Case1: Users seeking assistance with checking their account balance through various channels like online banking, mobile app, or ATM"
      ],
      "metadata": {
        "id": "1ePTHDIXNKoO"
      }
    },
    {
      "cell_type": "code",
      "source": [
        "query = \"How do I check my account balance?\""
      ],
      "metadata": {
        "id": "S36fJkZQM9sq"
      },
      "execution_count": 45,
      "outputs": []
    },
    {
      "cell_type": "code",
      "source": [
        "fine_tuned_model_result = chat_model(fine_tuned_model, query)\n",
        "print(f\"Result from fine tuned model: {fine_tuned_model_result}\")"
      ],
      "metadata": {
        "id": "Bh2TaZFo2tNJ",
        "colab": {
          "base_uri": "https://localhost:8080/"
        },
        "outputId": "e7c1782d-084c-49c0-9502-643fd8e13845"
      },
      "execution_count": 46,
      "outputs": [
        {
          "output_type": "stream",
          "name": "stdout",
          "text": [
            "Result from fine tuned model: You can check your account balance by logging into your online banking account or by using our mobile banking app.\n"
          ]
        }
      ]
    },
    {
      "cell_type": "code",
      "source": [
        "not_fine_tuned_model_result = chat_model(\"gpt-3.5-turbo-0125\", query)\n",
        "print(f\"Result from the base model (gpt-3.5-turbo-0125): {not_fine_tuned_model_result}\")"
      ],
      "metadata": {
        "colab": {
          "base_uri": "https://localhost:8080/"
        },
        "id": "Q0pjHjCHMjtw",
        "outputId": "86c20806-cbba-49ea-a270-1c01b6ada2aa"
      },
      "execution_count": 47,
      "outputs": [
        {
          "output_type": "stream",
          "name": "stdout",
          "text": [
            "Result from the base model (gpt-3.5-turbo-0125): To check your account balance, you can use various methods depending on your bank. Here are some common ways to check your account balance:\n",
            "\n",
            "1. **Online Banking**: Log in to your bank's online banking portal using your username and password. You can usually view your account balance, recent transactions, and more.\n",
            "\n",
            "2. **Mobile Banking App**: Download your bank's mobile app and log in to check your account balance on the go. Most banking apps offer account balance information and transaction history.\n",
            "\n",
            "3. **ATM**: Visit an ATM and insert your debit card. Select the option to check your account balance, and the ATM will display your current balance.\n",
            "\n",
            "4. **Phone Banking**: Call your bank's customer service number and follow the automated prompts to check your account balance. You may need to provide some identification information for security purposes.\n",
            "\n",
            "5. **Bank Statement**: Review your monthly bank statement, either online or in paper form, to see your account balance and recent transactions.\n",
            "\n",
            "Remember, it's important to keep your account information secure. Never share your account details or passwords with anyone. If you have any concerns about your account balance or suspect unauthorized activity, contact your bank immediately.\n"
          ]
        }
      ]
    },
    {
      "cell_type": "markdown",
      "source": [
        "### Use Case2: Customers needing information about required documents and procedures for opening a new bank account."
      ],
      "metadata": {
        "id": "5npAHmExNMBm"
      }
    },
    {
      "cell_type": "code",
      "source": [
        "query = \"What documents do I need to open a new account?\""
      ],
      "metadata": {
        "id": "KSxq5A-SNTLd"
      },
      "execution_count": 48,
      "outputs": []
    },
    {
      "cell_type": "code",
      "source": [
        "fine_tuned_model_result = chat_model(fine_tuned_model, query)\n",
        "print(f\"Result from fine tuned model: {fine_tuned_model_result}\")"
      ],
      "metadata": {
        "colab": {
          "base_uri": "https://localhost:8080/"
        },
        "id": "jHMB4UTeNZaN",
        "outputId": "7b768488-fe15-4c55-883b-3c760ea4d7c9"
      },
      "execution_count": 49,
      "outputs": [
        {
          "output_type": "stream",
          "name": "stdout",
          "text": [
            "Result from fine tuned model: You will need a valid ID, proof of address, and your Social Security Number or equivalent identification number.\n"
          ]
        }
      ]
    },
    {
      "cell_type": "code",
      "source": [
        "not_fine_tuned_model_result = chat_model(\"gpt-3.5-turbo-0125\", query)\n",
        "print(f\"Result from the base model (gpt-3.5-turbo-0125): {not_fine_tuned_model_result}\")"
      ],
      "metadata": {
        "colab": {
          "base_uri": "https://localhost:8080/"
        },
        "id": "1ckcN29PNa_H",
        "outputId": "55ec5755-6284-4225-979b-004b88b14143"
      },
      "execution_count": 50,
      "outputs": [
        {
          "output_type": "stream",
          "name": "stdout",
          "text": [
            "Result from the base model (gpt-3.5-turbo-0125): To open a new account, you typically need to provide the following documents:\n",
            "\n",
            "1. **Identification**: A valid government-issued photo ID such as a driver's license, passport, or state ID.\n",
            "   \n",
            "2. **Proof of Address**: A utility bill, lease agreement, or bank statement with your current address.\n",
            "   \n",
            "3. **Social Security Number (SSN)**: Some banks may require your SSN for tax reporting purposes.\n",
            "   \n",
            "4. **Initial Deposit**: Be prepared to make an initial deposit to fund your new account.\n",
            "\n",
            "It's always a good idea to check with the specific bank where you plan to open an account, as requirements may vary. If you have any questions or need further assistance, feel free to reach out to the bank directly.\n"
          ]
        }
      ]
    },
    {
      "cell_type": "markdown",
      "source": [
        "### Use Case3: People requesting guidance on setting up and navigating digital banking services and mobile applications."
      ],
      "metadata": {
        "id": "nI4rCu5XNhMG"
      }
    },
    {
      "cell_type": "code",
      "source": [
        "query = \"How can I set up online banking?\""
      ],
      "metadata": {
        "id": "FxJ42msMOhsu"
      },
      "execution_count": 51,
      "outputs": []
    },
    {
      "cell_type": "code",
      "source": [
        "fine_tuned_model_result = chat_model(fine_tuned_model, query)\n",
        "print(f\"Result from fine tuned model: {fine_tuned_model_result}\")"
      ],
      "metadata": {
        "colab": {
          "base_uri": "https://localhost:8080/"
        },
        "id": "ekVg2VKCOzsm",
        "outputId": "369eaa71-144b-4bbf-bb44-407ba314c3c2"
      },
      "execution_count": 52,
      "outputs": [
        {
          "output_type": "stream",
          "name": "stdout",
          "text": [
            "Result from fine tuned model: To set up online banking, visit our website and follow the instructions to register for online access using your account information.\n"
          ]
        }
      ]
    },
    {
      "cell_type": "code",
      "source": [
        "not_fine_tuned_model_result = chat_model(\"gpt-3.5-turbo-0125\", query)\n",
        "print(f\"Result from the base model (gpt-3.5-turbo-0125): {not_fine_tuned_model_result}\")"
      ],
      "metadata": {
        "colab": {
          "base_uri": "https://localhost:8080/"
        },
        "id": "Cvgq232nO1ky",
        "outputId": "1a6a86ac-1a53-4039-c71c-e8751e9f9944"
      },
      "execution_count": 53,
      "outputs": [
        {
          "output_type": "stream",
          "name": "stdout",
          "text": [
            "Result from the base model (gpt-3.5-turbo-0125): Setting up online banking is a convenient way to manage your finances from anywhere. Here's a general guide on how to set it up:\n",
            "\n",
            "1. Visit your bank's website: Go to your bank's official website to find the online banking registration page.\n",
            "\n",
            "2. Register for online banking: Look for the option to register for online banking. You may need your account number, SSN, and other personal information to complete the registration process.\n",
            "\n",
            "3. Create a username and password: Choose a secure username and password that you can easily remember but others cannot guess. Avoid using easily identifiable information like your birthdate or name.\n",
            "\n",
            "4. Set up security questions: Some banks may require you to set up security questions for added protection.\n",
            "\n",
            "5. Verify your identity: Your bank may ask you to verify your identity through a code sent to your email or phone.\n",
            "\n",
            "6. Log in: Once you've completed the registration process, log in to your online banking account using the username and password you created.\n",
            "\n",
            "7. Explore the features: Familiarize yourself with the features of online banking, such as checking your account balance, transferring funds, paying bills, and setting up alerts.\n",
            "\n",
            "Remember, each bank may have slightly different steps for setting up online banking, so it's best to refer to your specific bank's website or contact their customer service for detailed instructions.\n"
          ]
        }
      ]
    },
    {
      "cell_type": "markdown",
      "source": [
        "### Use Case4: Customers requiring help with various types of money transfers, including internal, external, and wire transfers."
      ],
      "metadata": {
        "id": "Y5subIeVNxeG"
      }
    },
    {
      "cell_type": "code",
      "source": [
        "query= \"How do I transfer money to another account?\""
      ],
      "metadata": {
        "id": "K5NKIBreOk12"
      },
      "execution_count": 54,
      "outputs": []
    },
    {
      "cell_type": "code",
      "source": [
        "fine_tuned_model_result = chat_model(fine_tuned_model, query)\n",
        "print(f\"Result from fine tuned model: {fine_tuned_model_result}\")"
      ],
      "metadata": {
        "colab": {
          "base_uri": "https://localhost:8080/"
        },
        "id": "RS4AGOjMO34S",
        "outputId": "af84903e-c6e1-4791-c5bc-4cd4f8c61a72"
      },
      "execution_count": 55,
      "outputs": [
        {
          "output_type": "stream",
          "name": "stdout",
          "text": [
            "Result from fine tuned model: Log into your online banking account, select 'Transfer Funds,' and follow the instructions to transfer money to the desired account.\n"
          ]
        }
      ]
    },
    {
      "cell_type": "code",
      "source": [
        "not_fine_tuned_model_result = chat_model(\"gpt-3.5-turbo-0125\", query)\n",
        "print(f\"Result from the base model (gpt-3.5-turbo-0125): {not_fine_tuned_model_result}\")"
      ],
      "metadata": {
        "colab": {
          "base_uri": "https://localhost:8080/"
        },
        "id": "7WTqjTyeO5TU",
        "outputId": "dd3bd53a-391d-4876-d922-e4caca974ef3"
      },
      "execution_count": 56,
      "outputs": [
        {
          "output_type": "stream",
          "name": "stdout",
          "text": [
            "Result from the base model (gpt-3.5-turbo-0125): To transfer money to another account, you can typically use online banking, mobile banking, or visit a branch of your bank. Here's a general guide:\n",
            "\n",
            "1. **Online Banking:** Log in to your online banking account, select the option for transfers, then choose the account you want to transfer money from and the account you want to transfer money to. Enter the amount and any other required details, then confirm the transfer.\n",
            "\n",
            "2. **Mobile Banking:** Open your bank's mobile app, navigate to the transfer or payments section, select the accounts involved, enter the amount, and complete the transfer following the on-screen instructions.\n",
            "\n",
            "3. **Branch Visit:** If you prefer in-person assistance, visit your bank's branch, fill out a transfer form with the recipient's account details, and hand it to a bank representative for processing.\n",
            "\n",
            "Remember to double-check the recipient's account details to avoid any errors. If you're unsure or need specific guidance, contact your bank's customer service for assistance.\n"
          ]
        }
      ]
    },
    {
      "cell_type": "markdown",
      "source": [
        "### Use Case5: Employees looking to set up direct deposits and understand routing numbers and account requirements."
      ],
      "metadata": {
        "id": "8GXU7Di6OWXy"
      }
    },
    {
      "cell_type": "code",
      "source": [
        "query = \"How do I set up direct deposit for my salary?\""
      ],
      "metadata": {
        "id": "Fkeqrb_5Otos"
      },
      "execution_count": 57,
      "outputs": []
    },
    {
      "cell_type": "code",
      "source": [
        "fine_tuned_model_result = chat_model(fine_tuned_model, query)\n",
        "print(f\"Result from fine tuned model: {fine_tuned_model_result}\")"
      ],
      "metadata": {
        "colab": {
          "base_uri": "https://localhost:8080/"
        },
        "id": "y84EFyNlO7pk",
        "outputId": "6c2d03fa-cf3c-4447-99f9-1e2e54f297d0"
      },
      "execution_count": 58,
      "outputs": [
        {
          "output_type": "stream",
          "name": "stdout",
          "text": [
            "Result from fine tuned model: To set up direct deposit, provide your employer with your account number and our bank's routing number.\n"
          ]
        }
      ]
    },
    {
      "cell_type": "code",
      "source": [
        "not_fine_tuned_model_result = chat_model(\"gpt-3.5-turbo-0125\", query)\n",
        "print(f\"Result from the base model (gpt-3.5-turbo-0125): {not_fine_tuned_model_result}\")"
      ],
      "metadata": {
        "colab": {
          "base_uri": "https://localhost:8080/"
        },
        "id": "oXklKmW6O9Bq",
        "outputId": "19bd92f6-993e-4d0d-b8f2-78e6654c2ae2"
      },
      "execution_count": 59,
      "outputs": [
        {
          "output_type": "stream",
          "name": "stdout",
          "text": [
            "Result from the base model (gpt-3.5-turbo-0125): Setting up direct deposit for your salary is a convenient way to have your paycheck automatically deposited into your bank account. Here's how you can set it up:\n",
            "\n",
            "1. Obtain your employer's direct deposit form: Your employer will typically provide a direct deposit form that you need to fill out. This form will require your bank account number, routing number, and other relevant information.\n",
            "\n",
            "2. Provide your banking information: Fill out the direct deposit form with accurate information. Double-check your bank account number and routing number to ensure the funds are deposited into the correct account.\n",
            "\n",
            "3. Submit the form to your employer: Once you have completed the form, submit it to your employer's HR department or whoever is responsible for payroll. They will process the form and set up direct deposit for your salary.\n",
            "\n",
            "4. Confirm with your bank: After a couple of pay periods, check your bank account to ensure that your salary is being deposited correctly. If you encounter any issues, contact your employer or bank for assistance.\n",
            "\n",
            "Remember, the process may vary slightly depending on your employer's procedures, so it's always a good idea to reach out to them if you have any specific questions or need further guidance.\n"
          ]
        }
      ]
    },
    {
      "cell_type": "markdown",
      "source": [
        "### Use Case6: Customers experiencing security concerns such as lost cards or suspicious activities requiring immediate attention."
      ],
      "metadata": {
        "id": "szMzlRxOOczC"
      }
    },
    {
      "cell_type": "code",
      "source": [
        "query = \"What should I do if I lose my debit card?\""
      ],
      "metadata": {
        "id": "bviPLY0UOvGh"
      },
      "execution_count": 60,
      "outputs": []
    },
    {
      "cell_type": "code",
      "source": [
        "fine_tuned_model_result = chat_model(fine_tuned_model, query)\n",
        "print(f\"Result from fine tuned model: {fine_tuned_model_result}\")"
      ],
      "metadata": {
        "colab": {
          "base_uri": "https://localhost:8080/"
        },
        "id": "PA1KbIlDO_2K",
        "outputId": "c5d30d65-2469-4cb8-a3ac-e4b77907c0d3"
      },
      "execution_count": 61,
      "outputs": [
        {
          "output_type": "stream",
          "name": "stdout",
          "text": [
            "Result from fine tuned model: Report the loss of your debit card immediately by contacting our customer service to have your card blocked and request a replacement.\n"
          ]
        }
      ]
    },
    {
      "cell_type": "code",
      "source": [
        "not_fine_tuned_model_result = chat_model(\"gpt-3.5-turbo-0125\", query)\n",
        "print(f\"Result from the base model (gpt-3.5-turbo-0125): {not_fine_tuned_model_result}\")"
      ],
      "metadata": {
        "colab": {
          "base_uri": "https://localhost:8080/"
        },
        "id": "2Am3mSjuPBFa",
        "outputId": "7f113c35-3b87-49fd-c3a2-d9ad48136dbd"
      },
      "execution_count": 62,
      "outputs": [
        {
          "output_type": "stream",
          "name": "stdout",
          "text": [
            "Result from the base model (gpt-3.5-turbo-0125): If you lose your debit card, it's important to act quickly to protect your account. Here's what you should do:\n",
            "\n",
            "1. **Contact Your Bank**: Notify your bank immediately. Most banks have 24/7 customer service lines for reporting lost or stolen cards. They can deactivate your card to prevent unauthorized transactions.\n",
            "\n",
            "2. **Monitor Your Account**: Keep an eye on your account activity for any unauthorized transactions. Report any suspicious activity to your bank.\n",
            "\n",
            "3. **Request a New Card**: Ask your bank to issue you a new debit card. They will typically send you a replacement card with a new card number and security code.\n",
            "\n",
            "4. **Update Automatic Payments**: If you have any recurring payments linked to your old card, make sure to update them with your new card information to avoid any disruptions.\n",
            "\n",
            "Remember, never share your card details or personal information with anyone claiming to be from your bank. If you have any concerns about your account security, contact your bank directly for assistance.\n"
          ]
        }
      ]
    },
    {
      "cell_type": "markdown",
      "source": [
        "### Unseen activities"
      ],
      "metadata": {
        "id": "6MzXZD-uP1zi"
      }
    },
    {
      "cell_type": "code",
      "source": [
        "query = \"What is the contact number of your customer service?\""
      ],
      "metadata": {
        "id": "rR3_P2KHPInS"
      },
      "execution_count": 66,
      "outputs": []
    },
    {
      "cell_type": "code",
      "source": [
        "fine_tuned_model_result = chat_model(fine_tuned_model, query)\n",
        "print(f\"Result from fine tuned model: {fine_tuned_model_result}\")"
      ],
      "metadata": {
        "colab": {
          "base_uri": "https://localhost:8080/"
        },
        "id": "hob-Sgx2PNNS",
        "outputId": "4cbb5f0c-f466-4e2b-d9b8-8957f6918b93"
      },
      "execution_count": 67,
      "outputs": [
        {
          "output_type": "stream",
          "name": "stdout",
          "text": [
            "Result from fine tuned model: You can reach our customer service at 1-800-123-4567.\n"
          ]
        }
      ]
    },
    {
      "cell_type": "code",
      "source": [
        "not_fine_tuned_model_result = chat_model(\"gpt-3.5-turbo-0125\", query)\n",
        "print(f\"Result from the base model (gpt-3.5-turbo-0125): {not_fine_tuned_model_result}\")"
      ],
      "metadata": {
        "colab": {
          "base_uri": "https://localhost:8080/"
        },
        "id": "bZTumwGVPPek",
        "outputId": "ac69ff2e-5e01-44c1-873f-e4554ec016fd"
      },
      "execution_count": 68,
      "outputs": [
        {
          "output_type": "stream",
          "name": "stdout",
          "text": [
            "Result from the base model (gpt-3.5-turbo-0125): I'm here to help with general banking questions. For specific inquiries or account-related issues, please contact our customer service team directly. You can find the contact number on the back of your debit/credit card, on our official website, or on your account statements. They will be able to assist you further with personalized support.\n"
          ]
        }
      ]
    },
    {
      "cell_type": "code",
      "source": [
        "query = \"Can I open my account without social security number?\""
      ],
      "metadata": {
        "id": "mLRMMOlQP48S"
      },
      "execution_count": 69,
      "outputs": []
    },
    {
      "cell_type": "code",
      "source": [
        "fine_tuned_model_result = chat_model(fine_tuned_model, query)\n",
        "print(f\"Result from fine tuned model: {fine_tuned_model_result}\")"
      ],
      "metadata": {
        "colab": {
          "base_uri": "https://localhost:8080/"
        },
        "id": "0tfdeSp_P6kn",
        "outputId": "e2cb17d0-3621-4c77-84bb-ba067de82fb8"
      },
      "execution_count": 70,
      "outputs": [
        {
          "output_type": "stream",
          "name": "stdout",
          "text": [
            "Result from fine tuned model: No, a social security number is required to open an account due to legal and identification requirements.\n"
          ]
        }
      ]
    },
    {
      "cell_type": "code",
      "source": [
        "not_fine_tuned_model_result = chat_model(\"gpt-3.5-turbo-0125\", query)\n",
        "print(f\"Result from the base model (gpt-3.5-turbo-0125): {not_fine_tuned_model_result}\")"
      ],
      "metadata": {
        "colab": {
          "base_uri": "https://localhost:8080/"
        },
        "id": "NTdPfDThP8DO",
        "outputId": "d98a1d06-ff80-494d-c7a7-107c5e1a1587"
      },
      "execution_count": 71,
      "outputs": [
        {
          "output_type": "stream",
          "name": "stdout",
          "text": [
            "Result from the base model (gpt-3.5-turbo-0125): In most cases, you will need a social security number (SSN) to open a bank account in the United States. However, some banks may offer alternatives for individuals who do not have an SSN, such as an Individual Taxpayer Identification Number (ITIN) or a passport with a valid visa. It's best to check with the specific bank you are interested in to see what options they offer for opening an account without an SSN. Remember to bring valid identification and proof of address when opening an account.\n"
          ]
        }
      ]
    },
    {
      "cell_type": "code",
      "source": [
        "query = \"I need help with my finances, do you offer financial planning assistance\""
      ],
      "metadata": {
        "id": "3p_tlISJQCwq"
      },
      "execution_count": 76,
      "outputs": []
    },
    {
      "cell_type": "code",
      "source": [
        "fine_tuned_model_result = chat_model(fine_tuned_model, query)\n",
        "print(f\"Result from fine tuned model: {fine_tuned_model_result}\")"
      ],
      "metadata": {
        "colab": {
          "base_uri": "https://localhost:8080/"
        },
        "id": "06Nzt3MiQGzP",
        "outputId": "56588ac9-5ba5-41f4-a5f8-119a7ef6205d"
      },
      "execution_count": 77,
      "outputs": [
        {
          "output_type": "stream",
          "name": "stdout",
          "text": [
            "Result from fine tuned model: Yes, we offer financial planning assistance. Contact us to schedule a meeting with one of our financial advisors.\n"
          ]
        }
      ]
    },
    {
      "cell_type": "code",
      "source": [
        "not_fine_tuned_model_result = chat_model(\"gpt-3.5-turbo-0125\", query)\n",
        "print(f\"Result from the base model (gpt-3.5-turbo-0125): {not_fine_tuned_model_result}\")"
      ],
      "metadata": {
        "colab": {
          "base_uri": "https://localhost:8080/"
        },
        "id": "8d9aNiRsQKJO",
        "outputId": "a59a55fc-6686-4939-81bd-a2f0a701e911"
      },
      "execution_count": 78,
      "outputs": [
        {
          "output_type": "stream",
          "name": "stdout",
          "text": [
            "Result from the base model (gpt-3.5-turbo-0125): As a Banking FAQ Support Assistant, I can provide general information about banking products and services, including savings accounts, loans, credit cards, and digital banking. However, for personalized financial planning assistance, I recommend reaching out to a financial advisor or planner. They can help you create a comprehensive financial plan tailored to your specific goals and circumstances. If you have any questions about specific banking products or services, feel free to ask!\n"
          ]
        }
      ]
    }
  ]
}